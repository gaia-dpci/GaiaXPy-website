{
 "cells": [
  {
   "cell_type": "markdown",
   "metadata": {},
   "source": [
    "# How to use the converter utility"
   ]
  },
  {
   "cell_type": "markdown",
   "metadata": {},
   "source": [
    "This tool converts the input internally calibrated mean spectra from the continuous representation to a sampled form.\n",
    "\n",
    "Information about the units of the variables used in this tutorial can be found [here](https://gaiaxpy.readthedocs.io/en/latest/description.html#general-description)."
   ]
  },
  {
   "cell_type": "markdown",
   "metadata": {},
   "source": [
    "## Basic usage"
   ]
  },
  {
   "cell_type": "code",
   "execution_count": 1,
   "metadata": {},
   "outputs": [],
   "source": [
    "# Import the tool\n",
    "from gaiaxpy import convert\n",
    "# Path to file with XP CONTINUOUS RAW data (csv, ecsv, fits, or xml)\n",
    "f = '/home/drm/GaiaXPy/tests/files/xp_continuous/XP_CONTINUOUS_RAW_dr3int6.fits'"
   ]
  },
  {
   "cell_type": "markdown",
   "metadata": {},
   "source": [
    "#### The converter returns two different outputs: \n",
    "\n",
    " 1. The values for all sampled spectra as a pandas DataFrame.\n",
    " 2. The sampling used to convert the input spectra in pseudo-wavelength. This sampling should be an iterable (e.g. a NumPy array), the minimum accepted value is -10 and the maximum is 70. The default sampling is numpy.linspace(0, 60, 600)."
   ]
  },
  {
   "cell_type": "code",
   "execution_count": 2,
   "metadata": {},
   "outputs": [
    {
     "name": "stdout",
     "output_type": "stream",
     "text": [
      "Processing data [50%]\r",
      "                              \r",
      "Processing data [100%]\r",
      "                              \r"
     ]
    },
    {
     "data": {
      "text/html": [
       "<div>\n",
       "<style scoped>\n",
       "    .dataframe tbody tr th:only-of-type {\n",
       "        vertical-align: middle;\n",
       "    }\n",
       "\n",
       "    .dataframe tbody tr th {\n",
       "        vertical-align: top;\n",
       "    }\n",
       "\n",
       "    .dataframe thead th {\n",
       "        text-align: right;\n",
       "    }\n",
       "</style>\n",
       "<table border=\"1\" class=\"dataframe\">\n",
       "  <thead>\n",
       "    <tr style=\"text-align: right;\">\n",
       "      <th></th>\n",
       "      <th>source_id</th>\n",
       "      <th>xp</th>\n",
       "      <th>flux</th>\n",
       "      <th>flux_error</th>\n",
       "    </tr>\n",
       "  </thead>\n",
       "  <tbody>\n",
       "    <tr>\n",
       "      <th>0</th>\n",
       "      <td>6</td>\n",
       "      <td>BP</td>\n",
       "      <td>[790.6652760273903, 816.0488321107772, 838.088...</td>\n",
       "      <td>[51.12808805755064, 52.46049740480984, 53.5705...</td>\n",
       "    </tr>\n",
       "    <tr>\n",
       "      <th>1</th>\n",
       "      <td>6</td>\n",
       "      <td>RP</td>\n",
       "      <td>[908.9968995861024, 988.5280913043142, 1071.87...</td>\n",
       "      <td>[114.90126995378492, 116.22868541113809, 116.8...</td>\n",
       "    </tr>\n",
       "    <tr>\n",
       "      <th>2</th>\n",
       "      <td>4</td>\n",
       "      <td>BP</td>\n",
       "      <td>[15.117857072361456, 17.545174204016977, 20.14...</td>\n",
       "      <td>[6.55554367553648, 6.695615615689135, 6.804558...</td>\n",
       "    </tr>\n",
       "    <tr>\n",
       "      <th>3</th>\n",
       "      <td>4</td>\n",
       "      <td>RP</td>\n",
       "      <td>[6.5153802457522785, 7.081726114227435, 7.6757...</td>\n",
       "      <td>[0.9436286507422352, 0.9450255485429504, 0.940...</td>\n",
       "    </tr>\n",
       "  </tbody>\n",
       "</table>\n",
       "</div>"
      ],
      "text/plain": [
       "   source_id  xp                                               flux  \\\n",
       "0          6  BP  [790.6652760273903, 816.0488321107772, 838.088...   \n",
       "1          6  RP  [908.9968995861024, 988.5280913043142, 1071.87...   \n",
       "2          4  BP  [15.117857072361456, 17.545174204016977, 20.14...   \n",
       "3          4  RP  [6.5153802457522785, 7.081726114227435, 7.6757...   \n",
       "\n",
       "                                          flux_error  \n",
       "0  [51.12808805755064, 52.46049740480984, 53.5705...  \n",
       "1  [114.90126995378492, 116.22868541113809, 116.8...  \n",
       "2  [6.55554367553648, 6.695615615689135, 6.804558...  \n",
       "3  [0.9436286507422352, 0.9450255485429504, 0.940...  "
      ]
     },
     "execution_count": 2,
     "metadata": {},
     "output_type": "execute_result"
    }
   ],
   "source": [
    "converted_spectra, sampling = convert(f)\n",
    "converted_spectra"
   ]
  },
  {
   "cell_type": "markdown",
   "metadata": {},
   "source": [
    "### Input types"
   ]
  },
  {
   "cell_type": "markdown",
   "metadata": {},
   "source": [
    "The input does not have to be a path to a file. There are other options: a pandas DataFrame, an ADQL query or a list of sourceIds."
   ]
  },
  {
   "cell_type": "markdown",
   "metadata": {},
   "source": [
    "#### Passing a DataFrame"
   ]
  },
  {
   "cell_type": "code",
   "execution_count": 3,
   "metadata": {},
   "outputs": [
    {
     "name": "stdout",
     "output_type": "stream",
     "text": [
      "Processing data [50%]\r",
      "                              \r",
      "Processing data [100%]\r",
      "                              \r"
     ]
    },
    {
     "data": {
      "text/html": [
       "<div>\n",
       "<style scoped>\n",
       "    .dataframe tbody tr th:only-of-type {\n",
       "        vertical-align: middle;\n",
       "    }\n",
       "\n",
       "    .dataframe tbody tr th {\n",
       "        vertical-align: top;\n",
       "    }\n",
       "\n",
       "    .dataframe thead th {\n",
       "        text-align: right;\n",
       "    }\n",
       "</style>\n",
       "<table border=\"1\" class=\"dataframe\">\n",
       "  <thead>\n",
       "    <tr style=\"text-align: right;\">\n",
       "      <th></th>\n",
       "      <th>source_id</th>\n",
       "      <th>xp</th>\n",
       "      <th>flux</th>\n",
       "      <th>flux_error</th>\n",
       "    </tr>\n",
       "  </thead>\n",
       "  <tbody>\n",
       "    <tr>\n",
       "      <th>0</th>\n",
       "      <td>6</td>\n",
       "      <td>BP</td>\n",
       "      <td>[790.6652760273903, 816.0488321107772, 838.088...</td>\n",
       "      <td>[51.128087665439566, 52.46049701409262, 53.570...</td>\n",
       "    </tr>\n",
       "    <tr>\n",
       "      <th>1</th>\n",
       "      <td>6</td>\n",
       "      <td>RP</td>\n",
       "      <td>[908.9968995861024, 988.5280913043142, 1071.87...</td>\n",
       "      <td>[114.90126806544902, 116.22868348669782, 116.8...</td>\n",
       "    </tr>\n",
       "    <tr>\n",
       "      <th>2</th>\n",
       "      <td>4</td>\n",
       "      <td>BP</td>\n",
       "      <td>[15.117857072361456, 17.545174204016977, 20.14...</td>\n",
       "      <td>[6.555543736072461, 6.695615678678378, 6.80455...</td>\n",
       "    </tr>\n",
       "    <tr>\n",
       "      <th>3</th>\n",
       "      <td>4</td>\n",
       "      <td>RP</td>\n",
       "      <td>[6.5153802457522785, 7.081726114227435, 7.6757...</td>\n",
       "      <td>[0.9436286353147278, 0.9450255340198569, 0.940...</td>\n",
       "    </tr>\n",
       "  </tbody>\n",
       "</table>\n",
       "</div>"
      ],
      "text/plain": [
       "   source_id  xp                                               flux  \\\n",
       "0          6  BP  [790.6652760273903, 816.0488321107772, 838.088...   \n",
       "1          6  RP  [908.9968995861024, 988.5280913043142, 1071.87...   \n",
       "2          4  BP  [15.117857072361456, 17.545174204016977, 20.14...   \n",
       "3          4  RP  [6.5153802457522785, 7.081726114227435, 7.6757...   \n",
       "\n",
       "                                          flux_error  \n",
       "0  [51.128087665439566, 52.46049701409262, 53.570...  \n",
       "1  [114.90126806544902, 116.22868348669782, 116.8...  \n",
       "2  [6.555543736072461, 6.695615678678378, 6.80455...  \n",
       "3  [0.9436286353147278, 0.9450255340198569, 0.940...  "
      ]
     },
     "execution_count": 3,
     "metadata": {},
     "output_type": "execute_result"
    }
   ],
   "source": [
    "import pandas as pd\n",
    "\n",
    "f = '/home/drm/GaiaXPy/tests/files/xp_continuous/XP_CONTINUOUS_RAW_dr3int6.csv'\n",
    "df = pd.read_csv(f) # The values in the DataFrame can be edited if the user wishes to do so.\n",
    "\n",
    "converted_spectra, sampling = convert(df)\n",
    "converted_spectra"
   ]
  },
  {
   "cell_type": "markdown",
   "metadata": {},
   "source": [
    "#### Running a query"
   ]
  },
  {
   "cell_type": "markdown",
   "metadata": {},
   "source": [
    "**Important note**: Currently the data in the Gaia Archive is not public. The following code will <span style=\"color:red\">not</span> work until DR3."
   ]
  },
  {
   "cell_type": "code",
   "execution_count": 4,
   "metadata": {},
   "outputs": [
    {
     "name": "stdout",
     "output_type": "stream",
     "text": [
      "INFO: Login to gaia TAP server [astroquery.gaia.core]\n",
      "User: druzmier\n",
      "Password: ········\n",
      "OK\n",
      "INFO: Login to gaia data server [astroquery.gaia.core]\n",
      "OK\n",
      "INFO: Query finished. [astroquery.utils.tap.core]\n",
      "                              \r"
     ]
    },
    {
     "data": {
      "text/html": [
       "<div>\n",
       "<style scoped>\n",
       "    .dataframe tbody tr th:only-of-type {\n",
       "        vertical-align: middle;\n",
       "    }\n",
       "\n",
       "    .dataframe tbody tr th {\n",
       "        vertical-align: top;\n",
       "    }\n",
       "\n",
       "    .dataframe thead th {\n",
       "        text-align: right;\n",
       "    }\n",
       "</style>\n",
       "<table border=\"1\" class=\"dataframe\">\n",
       "  <thead>\n",
       "    <tr style=\"text-align: right;\">\n",
       "      <th></th>\n",
       "      <th>source_id</th>\n",
       "      <th>xp</th>\n",
       "      <th>flux</th>\n",
       "      <th>flux_error</th>\n",
       "    </tr>\n",
       "  </thead>\n",
       "  <tbody>\n",
       "    <tr>\n",
       "      <th>0</th>\n",
       "      <td>6030020833890693248</td>\n",
       "      <td>BP</td>\n",
       "      <td>[9.25655942031924, 9.704017573605816, 10.13033...</td>\n",
       "      <td>[2.467990582349073, 2.5096246553216672, 2.5395...</td>\n",
       "    </tr>\n",
       "    <tr>\n",
       "      <th>1</th>\n",
       "      <td>6030020833890693248</td>\n",
       "      <td>RP</td>\n",
       "      <td>[7.486068042729214, 8.016885302844601, 8.56322...</td>\n",
       "      <td>[1.538632626158625, 1.5589587619418803, 1.5712...</td>\n",
       "    </tr>\n",
       "    <tr>\n",
       "      <th>2</th>\n",
       "      <td>6030064028385961344</td>\n",
       "      <td>BP</td>\n",
       "      <td>[1.643567813219948, 1.7677135472274004, 1.8932...</td>\n",
       "      <td>[1.48517091514435, 1.508713194396786, 1.525715...</td>\n",
       "    </tr>\n",
       "    <tr>\n",
       "      <th>3</th>\n",
       "      <td>6030064028385961344</td>\n",
       "      <td>RP</td>\n",
       "      <td>[2.5606551733926333, 2.7662244174915362, 2.978...</td>\n",
       "      <td>[1.3121525986663758, 1.34090699773081, 1.36418...</td>\n",
       "    </tr>\n",
       "  </tbody>\n",
       "</table>\n",
       "</div>"
      ],
      "text/plain": [
       "             source_id  xp                                               flux  \\\n",
       "0  6030020833890693248  BP  [9.25655942031924, 9.704017573605816, 10.13033...   \n",
       "1  6030020833890693248  RP  [7.486068042729214, 8.016885302844601, 8.56322...   \n",
       "2  6030064028385961344  BP  [1.643567813219948, 1.7677135472274004, 1.8932...   \n",
       "3  6030064028385961344  RP  [2.5606551733926333, 2.7662244174915362, 2.978...   \n",
       "\n",
       "                                          flux_error  \n",
       "0  [2.467990582349073, 2.5096246553216672, 2.5395...  \n",
       "1  [1.538632626158625, 1.5589587619418803, 1.5712...  \n",
       "2  [1.48517091514435, 1.508713194396786, 1.525715...  \n",
       "3  [1.3121525986663758, 1.34090699773081, 1.36418...  "
      ]
     },
     "execution_count": 4,
     "metadata": {},
     "output_type": "execute_result"
    }
   ],
   "source": [
    "query_input = \"select TOP 2 source_id from user_dr3int6.gaia_source where has_xp_continuous = 'True'\"\n",
    "converted_spectra, sampling = convert(query_input)\n",
    "converted_spectra"
   ]
  },
  {
   "cell_type": "markdown",
   "metadata": {},
   "source": [
    "#### Passing a list\n",
    "\n",
    "A list of sourceIds can be passed to the converter as the first argument. The converter will then query the Archive for these objects."
   ]
  },
  {
   "cell_type": "code",
   "execution_count": 5,
   "metadata": {},
   "outputs": [
    {
     "name": "stdout",
     "output_type": "stream",
     "text": [
      "INFO: Login to gaia TAP server [astroquery.gaia.core]\n",
      "User: druzmier\n",
      "Password: ········\n",
      "OK\n",
      "INFO: Login to gaia data server [astroquery.gaia.core]\n",
      "OK\n",
      "                              \r"
     ]
    },
    {
     "data": {
      "text/html": [
       "<div>\n",
       "<style scoped>\n",
       "    .dataframe tbody tr th:only-of-type {\n",
       "        vertical-align: middle;\n",
       "    }\n",
       "\n",
       "    .dataframe tbody tr th {\n",
       "        vertical-align: top;\n",
       "    }\n",
       "\n",
       "    .dataframe thead th {\n",
       "        text-align: right;\n",
       "    }\n",
       "</style>\n",
       "<table border=\"1\" class=\"dataframe\">\n",
       "  <thead>\n",
       "    <tr style=\"text-align: right;\">\n",
       "      <th></th>\n",
       "      <th>source_id</th>\n",
       "      <th>xp</th>\n",
       "      <th>flux</th>\n",
       "      <th>flux_error</th>\n",
       "    </tr>\n",
       "  </thead>\n",
       "  <tbody>\n",
       "    <tr>\n",
       "      <th>0</th>\n",
       "      <td>6030020833890693248</td>\n",
       "      <td>BP</td>\n",
       "      <td>[9.25655942031924, 9.704017573605816, 10.13033...</td>\n",
       "      <td>[2.467990582349073, 2.5096246553216672, 2.5395...</td>\n",
       "    </tr>\n",
       "    <tr>\n",
       "      <th>1</th>\n",
       "      <td>6030020833890693248</td>\n",
       "      <td>RP</td>\n",
       "      <td>[7.486068042729214, 8.016885302844601, 8.56322...</td>\n",
       "      <td>[1.538632626158625, 1.5589587619418803, 1.5712...</td>\n",
       "    </tr>\n",
       "    <tr>\n",
       "      <th>2</th>\n",
       "      <td>6030064028385961344</td>\n",
       "      <td>BP</td>\n",
       "      <td>[1.643567813219948, 1.7677135472274004, 1.8932...</td>\n",
       "      <td>[1.48517091514435, 1.508713194396786, 1.525715...</td>\n",
       "    </tr>\n",
       "    <tr>\n",
       "      <th>3</th>\n",
       "      <td>6030064028385961344</td>\n",
       "      <td>RP</td>\n",
       "      <td>[2.5606551733926333, 2.7662244174915362, 2.978...</td>\n",
       "      <td>[1.3121525986663758, 1.34090699773081, 1.36418...</td>\n",
       "    </tr>\n",
       "  </tbody>\n",
       "</table>\n",
       "</div>"
      ],
      "text/plain": [
       "             source_id  xp                                               flux  \\\n",
       "0  6030020833890693248  BP  [9.25655942031924, 9.704017573605816, 10.13033...   \n",
       "1  6030020833890693248  RP  [7.486068042729214, 8.016885302844601, 8.56322...   \n",
       "2  6030064028385961344  BP  [1.643567813219948, 1.7677135472274004, 1.8932...   \n",
       "3  6030064028385961344  RP  [2.5606551733926333, 2.7662244174915362, 2.978...   \n",
       "\n",
       "                                          flux_error  \n",
       "0  [2.467990582349073, 2.5096246553216672, 2.5395...  \n",
       "1  [1.538632626158625, 1.5589587619418803, 1.5712...  \n",
       "2  [1.48517091514435, 1.508713194396786, 1.525715...  \n",
       "3  [1.3121525986663758, 1.34090699773081, 1.36418...  "
      ]
     },
     "execution_count": 5,
     "metadata": {},
     "output_type": "execute_result"
    }
   ],
   "source": [
    "sources_list = ['6030020833890693248', 6030064028385961344] # The sourceIds can be string or long.\n",
    "converted_spectra, sampling = convert(sources_list)\n",
    "converted_spectra"
   ]
  },
  {
   "cell_type": "markdown",
   "metadata": {},
   "source": [
    "## Advanced usage"
   ]
  },
  {
   "cell_type": "markdown",
   "metadata": {},
   "source": [
    "Additional arguments can be passed to the converter.\n",
    "\n",
    "These are:\n",
    "1. sampling\n",
    "2. truncation\n",
    "3. output_path\n",
    "3. output_file\n",
    "4. output_format\n",
    "5. save_file"
   ]
  },
  {
   "cell_type": "markdown",
   "metadata": {},
   "source": [
    "### Sampling"
   ]
  },
  {
   "cell_type": "markdown",
   "metadata": {},
   "source": [
    "A custom sampling can be passed to the function. This sampling should be an iterable (list, tuple, generator, or preferably a NumPy array). If no sampling is given, the default sampling is returned.\n",
    "\n",
    "The default sampling of the converter corresponds to numpy.linspace(0., 60., 600.) in pseudo-wavelength.\n",
    "\n",
    "The minimum value allowed in the sampling is -10, and the maximum is 70. The program will raise an error is the sampling does not comply."
   ]
  },
  {
   "cell_type": "code",
   "execution_count": 6,
   "metadata": {},
   "outputs": [
    {
     "name": "stdout",
     "output_type": "stream",
     "text": [
      "                              \r"
     ]
    },
    {
     "data": {
      "text/html": [
       "<div>\n",
       "<style scoped>\n",
       "    .dataframe tbody tr th:only-of-type {\n",
       "        vertical-align: middle;\n",
       "    }\n",
       "\n",
       "    .dataframe tbody tr th {\n",
       "        vertical-align: top;\n",
       "    }\n",
       "\n",
       "    .dataframe thead th {\n",
       "        text-align: right;\n",
       "    }\n",
       "</style>\n",
       "<table border=\"1\" class=\"dataframe\">\n",
       "  <thead>\n",
       "    <tr style=\"text-align: right;\">\n",
       "      <th></th>\n",
       "      <th>source_id</th>\n",
       "      <th>xp</th>\n",
       "      <th>flux</th>\n",
       "      <th>flux_error</th>\n",
       "    </tr>\n",
       "  </thead>\n",
       "  <tbody>\n",
       "    <tr>\n",
       "      <th>0</th>\n",
       "      <td>6</td>\n",
       "      <td>BP</td>\n",
       "      <td>[1.3082126778732341e-05, 5.4669320529179805e-0...</td>\n",
       "      <td>[3.825912328340359e-06, 1.4022303133483225e-05...</td>\n",
       "    </tr>\n",
       "    <tr>\n",
       "      <th>1</th>\n",
       "      <td>6</td>\n",
       "      <td>RP</td>\n",
       "      <td>[2.103162458167948e-06, 8.936766026982058e-06,...</td>\n",
       "      <td>[5.078924195073175e-06, 1.9682498669323115e-05...</td>\n",
       "    </tr>\n",
       "    <tr>\n",
       "      <th>2</th>\n",
       "      <td>4</td>\n",
       "      <td>BP</td>\n",
       "      <td>[-2.711554384665641e-06, -9.74899522327931e-06...</td>\n",
       "      <td>[4.941224651787589e-07, 1.8211816533255976e-06...</td>\n",
       "    </tr>\n",
       "    <tr>\n",
       "      <th>3</th>\n",
       "      <td>4</td>\n",
       "      <td>RP</td>\n",
       "      <td>[-3.125339376302649e-10, 8.193829976216151e-09...</td>\n",
       "      <td>[5.086054060015767e-08, 1.9680526890289216e-07...</td>\n",
       "    </tr>\n",
       "  </tbody>\n",
       "</table>\n",
       "</div>"
      ],
      "text/plain": [
       "   source_id  xp                                               flux  \\\n",
       "0          6  BP  [1.3082126778732341e-05, 5.4669320529179805e-0...   \n",
       "1          6  RP  [2.103162458167948e-06, 8.936766026982058e-06,...   \n",
       "2          4  BP  [-2.711554384665641e-06, -9.74899522327931e-06...   \n",
       "3          4  RP  [-3.125339376302649e-10, 8.193829976216151e-09...   \n",
       "\n",
       "                                          flux_error  \n",
       "0  [3.825912328340359e-06, 1.4022303133483225e-05...  \n",
       "1  [5.078924195073175e-06, 1.9682498669323115e-05...  \n",
       "2  [4.941224651787589e-07, 1.8211816533255976e-06...  \n",
       "3  [5.086054060015767e-08, 1.9680526890289216e-07...  "
      ]
     },
     "execution_count": 6,
     "metadata": {},
     "output_type": "execute_result"
    }
   ],
   "source": [
    "import numpy as np\n",
    "\n",
    "converted_spectra_default, default_sampling = convert(df.iloc[[0]])\n",
    "converted_spectra, custom_sampling = convert(f, sampling=np.arange(-10, 70, 0.5))\n",
    "converted_spectra"
   ]
  },
  {
   "cell_type": "markdown",
   "metadata": {},
   "source": [
    "The results can be plotted using the plotter utility."
   ]
  },
  {
   "cell_type": "code",
   "execution_count": 7,
   "metadata": {},
   "outputs": [
    {
     "data": {
      "image/png": "[encoded data removed]",
      "text/plain": [
       "<Figure size 1152x576 with 2 Axes>"
      ]
     },
     "metadata": {
      "needs_background": "light"
     },
     "output_type": "display_data"
    }
   ],
   "source": [
    "from gaiaxpy import plot_spectra\n",
    "# multi allows the spectra to appear in the same canvas\n",
    "plot_spectra(converted_spectra, sampling=custom_sampling, multi=True)"
   ]
  },
  {
   "cell_type": "markdown",
   "metadata": {},
   "source": [
    "The figure can be saved too."
   ]
  },
  {
   "cell_type": "code",
   "execution_count": 8,
   "metadata": {},
   "outputs": [],
   "source": [
    "plot_spectra(converted_spectra, sampling=custom_sampling, multi=True, output_path='/home/drm/Desktop', show_plot=False)"
   ]
  },
  {
   "cell_type": "markdown",
   "metadata": {},
   "source": [
    "### Truncation"
   ]
  },
  {
   "cell_type": "markdown",
   "metadata": {},
   "source": [
    "The source mean BP/RP spectrum is described as a combination of basis functions. Particularly for faint sources or sources with a low number of observations, it is useful to represent the spectrum using a smaller set of basis functions to avoid higher-order bases fitting the noise in the observed data.\n",
    "\n",
    "The truncation parameter is a boolean which toggles the truncation of the set of bases."
   ]
  },
  {
   "cell_type": "code",
   "execution_count": 9,
   "metadata": {},
   "outputs": [
    {
     "name": "stdout",
     "output_type": "stream",
     "text": [
      "                              \r"
     ]
    }
   ],
   "source": [
    "first_source = df.drop([0]) # We'll use only the first source (sourceId 4) in the demonstration\n",
    "non_truncated_spectra, sampling = convert(first_source) # truncation is False by default\n",
    "truncated_spectra, _ = convert(first_source, truncation=True)"
   ]
  },
  {
   "cell_type": "markdown",
   "metadata": {},
   "source": [
    "We can use GaiaXPy's plot spectra utility to see the differences in the results."
   ]
  },
  {
   "cell_type": "code",
   "execution_count": 10,
   "metadata": {},
   "outputs": [
    {
     "data": {
      "image/png": "[encoded data removed]",
      "text/plain": [
       "<Figure size 1152x576 with 2 Axes>"
      ]
     },
     "metadata": {
      "needs_background": "light"
     },
     "output_type": "display_data"
    }
   ],
   "source": [
    "from gaiaxpy import plot_spectra\n",
    "# Construct a DataFrame so we can plot both sources using just one function call\n",
    "data = pd.concat([non_truncated_spectra, truncated_spectra]).reset_index(drop=True)\n",
    "# As both spectra we want to plot have the same sourceId, we'll rename them to get descriptive labels\n",
    "data['source_id'][0:2] = 'Non truncated'\n",
    "data['source_id'][2:4] = 'Truncated'\n",
    "plot_spectra(data, sampling=sampling, multi=True)"
   ]
  },
  {
   "cell_type": "markdown",
   "metadata": {},
   "source": [
    "The differences between the truncated and not truncated versions are too small to be seen in the previous plot. But we can compare the values."
   ]
  },
  {
   "cell_type": "code",
   "execution_count": 11,
   "metadata": {},
   "outputs": [
    {
     "name": "stdout",
     "output_type": "stream",
     "text": [
      "The length of the sampling is 600.\n",
      "Minimum difference: 1.736381318551139e-05. Index of minimum difference: 223.\n",
      "Maximum difference: 1.7060870650311983. Index of maximum difference: 64.\n"
     ]
    }
   ],
   "source": [
    "# We'll get the flux values of the BP band of the first spectrum in the data\n",
    "non_truncated_bp_flux = data[(data['source_id'] == 'Non truncated') & (data['xp'] == 'BP')]['flux'].iloc[0]\n",
    "truncated_bp_flux = data[(data['source_id'] == 'Truncated') & (data['xp'] == 'BP')]['flux'].iloc[0]\n",
    "# We can then compute the absolute differences\n",
    "abs_differences = np.abs(non_truncated_bp_flux - truncated_bp_flux)\n",
    "# And find the values and indices of those differences\n",
    "min_diff = np.min(abs_differences)\n",
    "max_diff = np.max(abs_differences)\n",
    "print(f'The length of the sampling is {len(non_truncated_bp_flux)}.')\n",
    "print(f'Minimum difference: {min_diff}. Index of minimum difference: {np.where(abs_differences == min_diff)[0][0]}.')\n",
    "print(f'Maximum difference: {max_diff}. Index of maximum difference: {np.where(abs_differences == max_diff)[0][0]}.')"
   ]
  },
  {
   "cell_type": "markdown",
   "metadata": {},
   "source": [
    "### Output_path, output_file, output_format, save_file"
   ]
  },
  {
   "cell_type": "markdown",
   "metadata": {},
   "source": [
    "Three parameters: **output_path**, **output_file**, and **output_format** define the entire path of the resulting file.\n",
    "\n",
    "The default output path is the current path. If the given output path does not exist, it will be created.\n",
    "\n",
    "The default output file name is 'output_spectra'. \n",
    "\n",
    "The default output format is the format of the input file (i.e. if the input file is a 'fits', then the output file will be a FITS file by default.), or CSV in any other case (DataFrame, ADQL query or list)."
   ]
  },
  {
   "cell_type": "markdown",
   "metadata": {},
   "source": [
    "**NOTE: If a file with the same path and name already exists, it will be AUTOMATICALLY OVERWRITTEN.**"
   ]
  },
  {
   "cell_type": "code",
   "execution_count": 12,
   "metadata": {},
   "outputs": [
    {
     "name": "stdout",
     "output_type": "stream",
     "text": [
      "Processing data [50%]\r",
      "                              \r",
      "Processing data [100%]\r",
      "                              \r"
     ]
    }
   ],
   "source": [
    "converted_spectra, _ = convert(f, output_path='/home/drm/Desktop', output_file='my_file', output_format='ecsv')"
   ]
  },
  {
   "cell_type": "markdown",
   "metadata": {},
   "source": [
    "The additional parameter **save_file** is a boolean that tells the program whether to save the results or not.\n",
    "If 'output_file' is given but 'save_file' is set to False, a warning will be raised."
   ]
  },
  {
   "cell_type": "code",
   "execution_count": 13,
   "metadata": {},
   "outputs": [
    {
     "name": "stderr",
     "output_type": "stream",
     "text": [
      "/home/drm/GaiaXPy/gaiaxpy/core/generic_functions.py:46: UserWarning: Argument output_file was given, but save_file is set to False. Set save_file to True to store the output of the function.\n",
      "  warn('Argument output_file was given, but save_file is set to False. Set save_file to True to store the output of the function.')\n"
     ]
    },
    {
     "name": "stdout",
     "output_type": "stream",
     "text": [
      "Processing data [50%]\r",
      "                              \r",
      "Processing data [100%]\r",
      "                              \r"
     ]
    }
   ],
   "source": [
    "converted_spectra, _ = convert(f, output_file='my_file', output_format='.csv', save_file=False)"
   ]
  }
 ],
 "metadata": {
  "kernelspec": {
   "display_name": "gaiaxpy",
   "language": "python",
   "name": "gaiaxpy"
  },
  "language_info": {
   "codemirror_mode": {
    "name": "ipython",
    "version": 3
   },
   "file_extension": ".py",
   "mimetype": "text/x-python",
   "name": "python",
   "nbconvert_exporter": "python",
   "pygments_lexer": "ipython3",
   "version": "3.8.10"
  }
 },
 "nbformat": 4,
 "nbformat_minor": 4
}
