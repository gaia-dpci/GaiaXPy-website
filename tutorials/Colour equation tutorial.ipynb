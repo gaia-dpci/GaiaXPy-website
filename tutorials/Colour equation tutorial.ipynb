{
 "cells": [
  {
   "cell_type": "markdown",
   "metadata": {},
   "source": [
    "# How to use the colour equation utility"
   ]
  },
  {
   "cell_type": "markdown",
   "metadata": {},
   "source": [
    "!!! **HERE: Missing description**"
   ]
  },
  {
   "cell_type": "markdown",
   "metadata": {},
   "source": [
    "## Basic usage"
   ]
  },
  {
   "cell_type": "code",
   "execution_count": 1,
   "metadata": {},
   "outputs": [],
   "source": [
    "# Import the tool\n",
    "from gaiaxpy import apply_colour_equation"
   ]
  },
  {
   "cell_type": "markdown",
   "metadata": {},
   "source": [
    "The colour equation can be applied over a synthetic photometry DataFrame which can be generated using the generator tool."
   ]
  },
  {
   "cell_type": "code",
   "execution_count": 2,
   "metadata": {},
   "outputs": [],
   "source": [
    "# Import generator\n",
    "from gaiaxpy import generate"
   ]
  },
  {
   "cell_type": "markdown",
   "metadata": {},
   "source": [
    "A photometric system is required to generate synthetic photometry."
   ]
  },
  {
   "cell_type": "code",
   "execution_count": 3,
   "metadata": {},
   "outputs": [],
   "source": [
    "# Import photometric systems\n",
    "from gaiaxpy import PhotometricSystem"
   ]
  },
  {
   "cell_type": "markdown",
   "metadata": {},
   "source": [
    "We can see which systems are available."
   ]
  },
  {
   "cell_type": "code",
   "execution_count": 4,
   "metadata": {},
   "outputs": [
    {
     "data": {
      "text/plain": [
       "'Els_Custom_W09_S2, Euclid_VIS, Gaia_2, Gaia_DR3_Vega, Halpha_Custom_AB, H_Custom, Hipparcos_Tycho, HST_ACSWFC, HST_HUGS_Std, HST_WFC3UVIS, HST_WFPC2, IPHAS, JKC, JKC_Std, JPAS, JPLUS, JWST_NIRCAM, PanSTARRS1, PanSTARRS1_Std, Pristine, SDSS, SDSS_Std, Stromgren, Stromgren_Std, WFIRST'"
      ]
     },
     "execution_count": 4,
     "metadata": {},
     "output_type": "execute_result"
    }
   ],
   "source": [
    "PhotometricSystem.get_available_systems()"
   ]
  },
  {
   "cell_type": "code",
   "execution_count": 5,
   "metadata": {},
   "outputs": [],
   "source": [
    "# We can select a simple system\n",
    "phot_system = PhotometricSystem.Gaia_2\n",
    "# Or use a list of them\n",
    "phot_system_list = [PhotometricSystem.Els_Custom_W09_S2, PhotometricSystem.Stromgren]"
   ]
  },
  {
   "cell_type": "markdown",
   "metadata": {},
   "source": [
    "As the colour equation can only be applied over some standard systems, we'll use a list of Std systems."
   ]
  },
  {
   "cell_type": "code",
   "execution_count": 6,
   "metadata": {},
   "outputs": [],
   "source": [
    "std_systems_list = [PhotometricSystem.HST_HUGS_Std, PhotometricSystem.JKC_Std, PhotometricSystem.SDSS_Std]"
   ]
  },
  {
   "cell_type": "markdown",
   "metadata": {},
   "source": [
    "To generate synthetic photometry:"
   ]
  },
  {
   "cell_type": "code",
   "execution_count": 7,
   "metadata": {},
   "outputs": [
    {
     "name": "stdout",
     "output_type": "stream",
     "text": [
      "Processing data [50%]\r",
      "                              \r",
      "Processing data [100%]\r",
      "                              \r",
      "Processing data [50%]\r",
      "                              \r",
      "Processing data [100%]\r",
      "                              \r",
      "Processing data [50%]\r",
      "                              \r",
      "Processing data [100%]\r",
      "                              \r"
     ]
    },
    {
     "data": {
      "text/html": [
       "<div>\n",
       "<style scoped>\n",
       "    .dataframe tbody tr th:only-of-type {\n",
       "        vertical-align: middle;\n",
       "    }\n",
       "\n",
       "    .dataframe tbody tr th {\n",
       "        vertical-align: top;\n",
       "    }\n",
       "\n",
       "    .dataframe thead th {\n",
       "        text-align: right;\n",
       "    }\n",
       "</style>\n",
       "<table border=\"1\" class=\"dataframe\">\n",
       "  <thead>\n",
       "    <tr style=\"text-align: right;\">\n",
       "      <th></th>\n",
       "      <th>source_id</th>\n",
       "      <th>HstHugsStd_mag_f438w</th>\n",
       "      <th>HstHugsStd_mag_f606w</th>\n",
       "      <th>HstHugsStd_mag_f814w</th>\n",
       "      <th>HstHugsStd_flux_f438w</th>\n",
       "      <th>HstHugsStd_flux_f606w</th>\n",
       "      <th>HstHugsStd_flux_f814w</th>\n",
       "      <th>HstHugsStd_flux_error_f438w</th>\n",
       "      <th>HstHugsStd_flux_error_f606w</th>\n",
       "      <th>HstHugsStd_flux_error_f814w</th>\n",
       "      <th>...</th>\n",
       "      <th>SdssStd_flux_u</th>\n",
       "      <th>SdssStd_flux_g</th>\n",
       "      <th>SdssStd_flux_r</th>\n",
       "      <th>SdssStd_flux_i</th>\n",
       "      <th>SdssStd_flux_z</th>\n",
       "      <th>SdssStd_flux_error_u</th>\n",
       "      <th>SdssStd_flux_error_g</th>\n",
       "      <th>SdssStd_flux_error_r</th>\n",
       "      <th>SdssStd_flux_error_i</th>\n",
       "      <th>SdssStd_flux_error_z</th>\n",
       "    </tr>\n",
       "  </thead>\n",
       "  <tbody>\n",
       "    <tr>\n",
       "      <th>0</th>\n",
       "      <td>6</td>\n",
       "      <td>13.319347</td>\n",
       "      <td>10.393440</td>\n",
       "      <td>7.318351</td>\n",
       "      <td>3.185526e-16</td>\n",
       "      <td>2.029476e-15</td>\n",
       "      <td>1.375877e-14</td>\n",
       "      <td>1.384867e-18</td>\n",
       "      <td>2.829514e-18</td>\n",
       "      <td>5.978018e-18</td>\n",
       "      <td>...</td>\n",
       "      <td>8.243764e-29</td>\n",
       "      <td>5.614966e-28</td>\n",
       "      <td>2.450442e-27</td>\n",
       "      <td>1.768695e-26</td>\n",
       "      <td>5.204299e-26</td>\n",
       "      <td>2.614274e-30</td>\n",
       "      <td>7.754404e-31</td>\n",
       "      <td>3.923450e-30</td>\n",
       "      <td>1.636680e-29</td>\n",
       "      <td>2.044913e-29</td>\n",
       "    </tr>\n",
       "    <tr>\n",
       "      <th>1</th>\n",
       "      <td>4</td>\n",
       "      <td>13.043443</td>\n",
       "      <td>13.216387</td>\n",
       "      <td>13.431844</td>\n",
       "      <td>4.107172e-16</td>\n",
       "      <td>1.507320e-16</td>\n",
       "      <td>4.933811e-17</td>\n",
       "      <td>4.625390e-19</td>\n",
       "      <td>7.899125e-20</td>\n",
       "      <td>2.739321e-20</td>\n",
       "      <td>...</td>\n",
       "      <td>2.277370e-28</td>\n",
       "      <td>2.342481e-28</td>\n",
       "      <td>1.609499e-28</td>\n",
       "      <td>1.178891e-28</td>\n",
       "      <td>8.819281e-29</td>\n",
       "      <td>1.272100e-30</td>\n",
       "      <td>1.421865e-31</td>\n",
       "      <td>1.518108e-31</td>\n",
       "      <td>7.970425e-32</td>\n",
       "      <td>8.976425e-32</td>\n",
       "    </tr>\n",
       "  </tbody>\n",
       "</table>\n",
       "<p>2 rows × 40 columns</p>\n",
       "</div>"
      ],
      "text/plain": [
       "   source_id  HstHugsStd_mag_f438w  HstHugsStd_mag_f606w  \\\n",
       "0          6             13.319347             10.393440   \n",
       "1          4             13.043443             13.216387   \n",
       "\n",
       "   HstHugsStd_mag_f814w  HstHugsStd_flux_f438w  HstHugsStd_flux_f606w  \\\n",
       "0              7.318351           3.185526e-16           2.029476e-15   \n",
       "1             13.431844           4.107172e-16           1.507320e-16   \n",
       "\n",
       "   HstHugsStd_flux_f814w  HstHugsStd_flux_error_f438w  \\\n",
       "0           1.375877e-14                 1.384867e-18   \n",
       "1           4.933811e-17                 4.625390e-19   \n",
       "\n",
       "   HstHugsStd_flux_error_f606w  HstHugsStd_flux_error_f814w  ...  \\\n",
       "0                 2.829514e-18                 5.978018e-18  ...   \n",
       "1                 7.899125e-20                 2.739321e-20  ...   \n",
       "\n",
       "   SdssStd_flux_u  SdssStd_flux_g  SdssStd_flux_r  SdssStd_flux_i  \\\n",
       "0    8.243764e-29    5.614966e-28    2.450442e-27    1.768695e-26   \n",
       "1    2.277370e-28    2.342481e-28    1.609499e-28    1.178891e-28   \n",
       "\n",
       "   SdssStd_flux_z  SdssStd_flux_error_u  SdssStd_flux_error_g  \\\n",
       "0    5.204299e-26          2.614274e-30          7.754404e-31   \n",
       "1    8.819281e-29          1.272100e-30          1.421865e-31   \n",
       "\n",
       "   SdssStd_flux_error_r  SdssStd_flux_error_i  SdssStd_flux_error_z  \n",
       "0          3.923450e-30          1.636680e-29          2.044913e-29  \n",
       "1          1.518108e-31          7.970425e-32          8.976425e-32  \n",
       "\n",
       "[2 rows x 40 columns]"
      ]
     },
     "execution_count": 7,
     "metadata": {},
     "output_type": "execute_result"
    }
   ],
   "source": [
    "# File with input data\n",
    "f = '/home/drm/GaiaXPy/tests/files/xp_continuous/XP_CONTINUOUS_RAW_dr3int6.fits'\n",
    "synthetic_photometry = generate(f, photometric_system=std_systems_list)\n",
    "synthetic_photometry"
   ]
  },
  {
   "cell_type": "markdown",
   "metadata": {},
   "source": [
    "We can now apply colour equations over this data:"
   ]
  },
  {
   "cell_type": "code",
   "execution_count": 8,
   "metadata": {},
   "outputs": [
    {
     "name": "stdout",
     "output_type": "stream",
     "text": [
      "UserWarning: Colour equation cannot be applied over system HstHugsStd. The program will skip this system.\n",
      "Processing data [50%]\r",
      "                              \r",
      "Processing data [100%]\r",
      "                              \r",
      "Processing data [50%]\r",
      "                              \r",
      "Processing data [100%]\r",
      "                              \r"
     ]
    }
   ],
   "source": [
    "synth_phot_colour = apply_colour_equation(synthetic_photometry, photometric_system=std_systems_list)\n",
    "# A warning will be raised for every system over which a colour equation cannot be applied."
   ]
  },
  {
   "cell_type": "markdown",
   "metadata": {},
   "source": [
    "If the photometric systems are not passed as an argument, the program will infer them from the data:"
   ]
  },
  {
   "cell_type": "code",
   "execution_count": 9,
   "metadata": {},
   "outputs": [
    {
     "name": "stdout",
     "output_type": "stream",
     "text": [
      "UserWarning: Colour equation cannot be applied over system HstHugsStd. The program will skip this system.\n",
      "Processing data [50%]\r",
      "                              \r",
      "Processing data [100%]\r",
      "                              \r",
      "Processing data [50%]\r",
      "                              \r",
      "Processing data [100%]\r",
      "                              \r"
     ]
    }
   ],
   "source": [
    "synth_phot_colour_infer = apply_colour_equation(synthetic_photometry)"
   ]
  },
  {
   "cell_type": "markdown",
   "metadata": {},
   "source": [
    "We can verify that both outputs are equivalent:"
   ]
  },
  {
   "cell_type": "code",
   "execution_count": 10,
   "metadata": {},
   "outputs": [
    {
     "name": "stdout",
     "output_type": "stream",
     "text": [
      "Are both frames equal? True\n"
     ]
    }
   ],
   "source": [
    "print(f'Are both frames equal? {synth_phot_colour.equals(synth_phot_colour_infer)}')"
   ]
  },
  {
   "cell_type": "markdown",
   "metadata": {},
   "source": [
    "## Advanced usage"
   ]
  },
  {
   "cell_type": "markdown",
   "metadata": {},
   "source": [
    "Additional arguments can be passed to the function.\n",
    "\n",
    "These are:\n",
    "1. output_path\n",
    "2. output_file\n",
    "3. output_format\n",
    "4. save_file"
   ]
  },
  {
   "cell_type": "markdown",
   "metadata": {},
   "source": [
    "Three parameters: **output_path**, **output_file**, and **output_format** define the entire path of the resulting file.\n",
    "\n",
    "The default output path is the current path. If the given output path does not exist, it will be created.\n",
    "\n",
    "The default output file name is 'output_spectra'. \n",
    "\n",
    "The default output format is the format of the input file (i.e. if the input file is a 'fits', then the output file will be a FITS file by default.), or CSV in any other case (DataFrame, ADQL query or list)."
   ]
  },
  {
   "cell_type": "markdown",
   "metadata": {},
   "source": [
    "**NOTE: If a file with the same path and name already exists, it will be AUTOMATICALLY OVERWRITTEN.**"
   ]
  },
  {
   "cell_type": "code",
   "execution_count": 11,
   "metadata": {},
   "outputs": [
    {
     "name": "stdout",
     "output_type": "stream",
     "text": [
      "UserWarning: Colour equation cannot be applied over system HstHugsStd. The program will skip this system.\n",
      "Processing data [50%]\r",
      "                              \r",
      "Processing data [100%]\r",
      "                              \r",
      "Processing data [50%]\r",
      "                              \r",
      "Processing data [100%]\r",
      "                              \r"
     ]
    }
   ],
   "source": [
    "synth_phot_colour = apply_colour_equation(synthetic_photometry, output_path='/home/drm/Desktop', output_file='my_file', output_format='xml')"
   ]
  },
  {
   "cell_type": "markdown",
   "metadata": {},
   "source": [
    "The additional parameter **save_file** is a boolean that tells the program whether to save the results or not.\n",
    "If 'output_file' is given but 'save_file' is set to False, a warning will be raised."
   ]
  },
  {
   "cell_type": "code",
   "execution_count": 12,
   "metadata": {},
   "outputs": [
    {
     "name": "stdout",
     "output_type": "stream",
     "text": [
      "UserWarning: Colour equation cannot be applied over system HstHugsStd. The program will skip this system.\n",
      "Processing data [50%]\r",
      "                              \r",
      "Processing data [100%]\r",
      "                              \r",
      "Processing data [50%]\r",
      "                              \r",
      "Processing data [100%]\r",
      "                              \r",
      "a\n"
     ]
    },
    {
     "name": "stderr",
     "output_type": "stream",
     "text": [
      "/home/drm/GaiaXPy/gaiaxpy/core/generic_functions.py:46: UserWarning: Argument output_file was given, but save_file is set to False. Set save_file to True to store the output of the function.\n",
      "  warn('Argument output_file was given, but save_file is set to False. Set save_file to True to store the output of the function.')\n"
     ]
    }
   ],
   "source": [
    "synth_phot_colour = apply_colour_equation(synthetic_photometry, output_file='my_file', save_file=False)\n",
    "print('a')"
   ]
  }
 ],
 "metadata": {
  "kernelspec": {
   "display_name": "gaiaxpy",
   "language": "python",
   "name": "gaiaxpy"
  },
  "language_info": {
   "codemirror_mode": {
    "name": "ipython",
    "version": 3
   },
   "file_extension": ".py",
   "mimetype": "text/x-python",
   "name": "python",
   "nbconvert_exporter": "python",
   "pygments_lexer": "ipython3",
   "version": "3.8.10"
  }
 },
 "nbformat": 4,
 "nbformat_minor": 4
}
