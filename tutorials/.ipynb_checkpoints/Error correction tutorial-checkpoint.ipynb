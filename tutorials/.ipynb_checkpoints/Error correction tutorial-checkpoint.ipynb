{
 "cells": [
  {
   "cell_type": "markdown",
   "metadata": {},
   "source": [
    "# How to use the error correction utility"
   ]
  },
  {
   "cell_type": "markdown",
   "metadata": {},
   "source": [
    "An analysis based on a dataset of sources for which the available observations per source were randomly split in two sets thus leading to the generation of two mean spectra for each object, has shown that errors on synthetic photometry are somewhat underestimated. \n",
    "\n",
    "This same dataset has been used to compute empirical corrections to the uncertainties (see Montegriffo et al. 2022). These corrections are available in GaiaXPy and can be applied to a set of synthethic photometry.\n",
    "\n",
    "Information about the units of the variables used in this tutorial can be found [here](https://gaiaxpy.readthedocs.io/en/latest/description.html#general-description)."
   ]
  },
  {
   "cell_type": "markdown",
   "metadata": {},
   "source": [
    "## Basic usage"
   ]
  },
  {
   "cell_type": "code",
   "execution_count": 1,
   "metadata": {},
   "outputs": [],
   "source": [
    "# Import the tool\n",
    "from gaiaxpy import apply_error_correction"
   ]
  },
  {
   "cell_type": "markdown",
   "metadata": {},
   "source": [
    "The error correction can be applied over a synthetic photometry DataFrame which can be generated using the generator tool."
   ]
  },
  {
   "cell_type": "code",
   "execution_count": 2,
   "metadata": {},
   "outputs": [],
   "source": [
    "# Import generator\n",
    "from gaiaxpy import generate"
   ]
  },
  {
   "cell_type": "markdown",
   "metadata": {},
   "source": [
    "A photometric system is required to generate synthetic photometry."
   ]
  },
  {
   "cell_type": "code",
   "execution_count": 3,
   "metadata": {},
   "outputs": [],
   "source": [
    "# Import photometric systems\n",
    "from gaiaxpy import PhotometricSystem"
   ]
  },
  {
   "cell_type": "markdown",
   "metadata": {},
   "source": [
    "We can see which systems are available."
   ]
  },
  {
   "cell_type": "code",
   "execution_count": 4,
   "metadata": {},
   "outputs": [
    {
     "data": {
      "text/plain": [
       "'Els_Custom_W09_S2, Euclid_VIS, Gaia_2, Gaia_DR3_Vega, Halpha_Custom_AB, H_Custom, Hipparcos_Tycho, HST_ACSWFC, HST_HUGS_Std, HST_WFC3UVIS, HST_WFPC2, IPHAS, JKC, JKC_Std, JPAS, JPLUS, JWST_NIRCAM, PanSTARRS1, PanSTARRS1_Std, Pristine, SDSS, SDSS_Std, Stromgren, Stromgren_Std, WFIRST'"
      ]
     },
     "execution_count": 4,
     "metadata": {},
     "output_type": "execute_result"
    }
   ],
   "source": [
    "PhotometricSystem.get_available_systems()"
   ]
  },
  {
   "cell_type": "code",
   "execution_count": 5,
   "metadata": {},
   "outputs": [],
   "source": [
    "# We can select a simple system\n",
    "phot_system = PhotometricSystem.Gaia_DR3_Vega\n",
    "# Or use a list of them\n",
    "phot_systems_list = [PhotometricSystem.Pristine, PhotometricSystem.JWST_NIRCAM, PhotometricSystem.Euclid_VIS]"
   ]
  },
  {
   "cell_type": "markdown",
   "metadata": {},
   "source": [
    "To generate synthetic photometry:"
   ]
  },
  {
   "cell_type": "code",
   "execution_count": 6,
   "metadata": {},
   "outputs": [
    {
     "name": "stdout",
     "output_type": "stream",
     "text": [
      "Processing data [50%]\r",
      "                              \r",
      "Processing data [100%]\r",
      "                              \r",
      "Processing data [50%]\r",
      "                              \r",
      "Processing data [100%]\r",
      "                              \r",
      "Processing data [50%]\r",
      "                              \r",
      "Processing data [100%]\r",
      "                              \r"
     ]
    },
    {
     "data": {
      "text/html": [
       "<div>\n",
       "<style scoped>\n",
       "    .dataframe tbody tr th:only-of-type {\n",
       "        vertical-align: middle;\n",
       "    }\n",
       "\n",
       "    .dataframe tbody tr th {\n",
       "        vertical-align: top;\n",
       "    }\n",
       "\n",
       "    .dataframe thead th {\n",
       "        text-align: right;\n",
       "    }\n",
       "</style>\n",
       "<table border=\"1\" class=\"dataframe\">\n",
       "  <thead>\n",
       "    <tr style=\"text-align: right;\">\n",
       "      <th></th>\n",
       "      <th>source_id</th>\n",
       "      <th>Pristine_mag_CaHK</th>\n",
       "      <th>Pristine_flux_CaHK</th>\n",
       "      <th>Pristine_flux_error_CaHK</th>\n",
       "      <th>JwstNircam_mag_F070W</th>\n",
       "      <th>JwstNircam_mag_F090W</th>\n",
       "      <th>JwstNircam_flux_F070W</th>\n",
       "      <th>JwstNircam_flux_F090W</th>\n",
       "      <th>JwstNircam_flux_error_F070W</th>\n",
       "      <th>JwstNircam_flux_error_F090W</th>\n",
       "      <th>EuclidVis_mag_VIS</th>\n",
       "      <th>EuclidVis_flux_VIS</th>\n",
       "      <th>EuclidVis_flux_error_VIS</th>\n",
       "    </tr>\n",
       "  </thead>\n",
       "  <tbody>\n",
       "    <tr>\n",
       "      <th>0</th>\n",
       "      <td>6</td>\n",
       "      <td>13.818329</td>\n",
       "      <td>2.162462e-16</td>\n",
       "      <td>9.483388e-18</td>\n",
       "      <td>8.649869</td>\n",
       "      <td>6.548173</td>\n",
       "      <td>5.939262e-15</td>\n",
       "      <td>2.037843e-14</td>\n",
       "      <td>7.313134e-18</td>\n",
       "      <td>1.122291e-17</td>\n",
       "      <td>8.229913</td>\n",
       "      <td>8.775556e-15</td>\n",
       "      <td>3.765390e-18</td>\n",
       "    </tr>\n",
       "    <tr>\n",
       "      <th>1</th>\n",
       "      <td>4</td>\n",
       "      <td>13.016468</td>\n",
       "      <td>4.525774e-16</td>\n",
       "      <td>4.957204e-18</td>\n",
       "      <td>13.339628</td>\n",
       "      <td>13.556191</td>\n",
       "      <td>7.903671e-17</td>\n",
       "      <td>3.206001e-17</td>\n",
       "      <td>5.804090e-20</td>\n",
       "      <td>5.476856e-20</td>\n",
       "      <td>13.318073</td>\n",
       "      <td>8.091163e-17</td>\n",
       "      <td>4.189795e-20</td>\n",
       "    </tr>\n",
       "  </tbody>\n",
       "</table>\n",
       "</div>"
      ],
      "text/plain": [
       "   source_id  Pristine_mag_CaHK  Pristine_flux_CaHK  Pristine_flux_error_CaHK  \\\n",
       "0          6          13.818329        2.162462e-16              9.483388e-18   \n",
       "1          4          13.016468        4.525774e-16              4.957204e-18   \n",
       "\n",
       "   JwstNircam_mag_F070W  JwstNircam_mag_F090W  JwstNircam_flux_F070W  \\\n",
       "0              8.649869              6.548173           5.939262e-15   \n",
       "1             13.339628             13.556191           7.903671e-17   \n",
       "\n",
       "   JwstNircam_flux_F090W  JwstNircam_flux_error_F070W  \\\n",
       "0           2.037843e-14                 7.313134e-18   \n",
       "1           3.206001e-17                 5.804090e-20   \n",
       "\n",
       "   JwstNircam_flux_error_F090W  EuclidVis_mag_VIS  EuclidVis_flux_VIS  \\\n",
       "0                 1.122291e-17           8.229913        8.775556e-15   \n",
       "1                 5.476856e-20          13.318073        8.091163e-17   \n",
       "\n",
       "   EuclidVis_flux_error_VIS  \n",
       "0              3.765390e-18  \n",
       "1              4.189795e-20  "
      ]
     },
     "execution_count": 6,
     "metadata": {},
     "output_type": "execute_result"
    }
   ],
   "source": [
    "# File with input data\n",
    "f = '/home/drm/GaiaXPy/tests/files/xp_continuous/XP_CONTINUOUS_RAW_dr3int6.ecsv'\n",
    "synthetic_photometry = generate(f, photometric_system=phot_systems_list)\n",
    "synthetic_photometry"
   ]
  },
  {
   "cell_type": "markdown",
   "metadata": {},
   "source": [
    "We can now apply the correction over this data:"
   ]
  },
  {
   "cell_type": "markdown",
   "metadata": {},
   "source": [
    "Due to the fact that the error corrections are computed from the Gaia photometry, if the system Gaia_DR3_Vega is not present in the input photometry, an error will be raised. We need to pass a list that contains this system and recompute the photometry."
   ]
  },
  {
   "cell_type": "code",
   "execution_count": 7,
   "metadata": {},
   "outputs": [
    {
     "name": "stdout",
     "output_type": "stream",
     "text": [
      "Processing data [50%]\r",
      "                              \r",
      "Processing data [100%]\r",
      "                              \r",
      "Processing data [50%]\r",
      "                              \r",
      "Processing data [100%]\r",
      "                              \r",
      "Processing data [50%]\r",
      "                              \r",
      "Processing data [100%]\r",
      "                              \r",
      "Processing data [50%]\r",
      "                              \r",
      "Processing data [100%]\r",
      "                              \r",
      "UserWarning: System Pristine does not have a correction table. The program will not apply error correction over this system.\n",
      "UserWarning: System GaiaDr3Vega does not have a correction table. The program will not apply error correction over this system.\n"
     ]
    }
   ],
   "source": [
    "# Add the system\n",
    "phot_systems_list = [PhotometricSystem.Pristine, PhotometricSystem.JWST_NIRCAM, PhotometricSystem.Euclid_VIS, PhotometricSystem.Gaia_DR3_Vega]\n",
    "# Recompute\n",
    "synthetic_photometry = generate(f, photometric_system=phot_systems_list)\n",
    "# Now we can apply the error correction\n",
    "synth_phot_corrected = apply_error_correction(synthetic_photometry, photometric_system=phot_systems_list)\n",
    "# Not every system has a correction table. A warning will be raised for every system for which a correction table does not exist."
   ]
  },
  {
   "cell_type": "markdown",
   "metadata": {},
   "source": [
    "If the photometric systems are not passed as an argument, the program will infer them from the data:"
   ]
  },
  {
   "cell_type": "code",
   "execution_count": 8,
   "metadata": {},
   "outputs": [
    {
     "name": "stdout",
     "output_type": "stream",
     "text": [
      "UserWarning: System Pristine does not have a correction table. The program will not apply error correction over this system.\n",
      "UserWarning: System GaiaDr3Vega does not have a correction table. The program will not apply error correction over this system.\n"
     ]
    }
   ],
   "source": [
    "synth_phot_corrected_infer = apply_error_correction(synthetic_photometry)"
   ]
  },
  {
   "cell_type": "markdown",
   "metadata": {},
   "source": [
    "We can verify that both outputs are equivalent:"
   ]
  },
  {
   "cell_type": "code",
   "execution_count": 9,
   "metadata": {},
   "outputs": [
    {
     "name": "stdout",
     "output_type": "stream",
     "text": [
      "Are both frames equal? True\n"
     ]
    }
   ],
   "source": [
    "print(f'Are both frames equal? {synth_phot_corrected.equals(synth_phot_corrected_infer)}')"
   ]
  },
  {
   "cell_type": "markdown",
   "metadata": {},
   "source": [
    "## Advanced usage"
   ]
  },
  {
   "cell_type": "markdown",
   "metadata": {},
   "source": [
    "Additional arguments can be passed to the function.\n",
    "\n",
    "These are:\n",
    "1. output_path\n",
    "2. output_file\n",
    "3. output_format\n",
    "4. save_file"
   ]
  },
  {
   "cell_type": "markdown",
   "metadata": {},
   "source": [
    "Three parameters: **output_path**, **output_file**, and **output_format** define the entire path of the resulting file.\n",
    "\n",
    "The default output path is the current path. If the given output path does not exist, it will be created.\n",
    "\n",
    "The default output file name is 'output_spectra'. \n",
    "\n",
    "The default output format is the format of the input file (i.e. if the input file is a 'fits', then the output file will be a FITS file by default.), or CSV in any other case (DataFrame, ADQL query or list)."
   ]
  },
  {
   "cell_type": "markdown",
   "metadata": {},
   "source": [
    "**NOTE: If a file with the same path and name already exists, it will be AUTOMATICALLY OVERWRITTEN.**"
   ]
  },
  {
   "cell_type": "code",
   "execution_count": 10,
   "metadata": {},
   "outputs": [
    {
     "name": "stdout",
     "output_type": "stream",
     "text": [
      "UserWarning: System Pristine does not have a correction table. The program will not apply error correction over this system.\n",
      "UserWarning: System GaiaDr3Vega does not have a correction table. The program will not apply error correction over this system.\n"
     ]
    }
   ],
   "source": [
    "synth_phot_corrected = apply_error_correction(synthetic_photometry, output_path='/home/drm/Desktop', output_file='my_file', output_format='csv')"
   ]
  },
  {
   "cell_type": "markdown",
   "metadata": {},
   "source": [
    "The additional parameter **save_file** is a boolean that tells the program whether to save the results or not.\n",
    "If 'output_file' is given but 'save_file' is set to False, a warning will be raised."
   ]
  },
  {
   "cell_type": "code",
   "execution_count": 11,
   "metadata": {},
   "outputs": [
    {
     "name": "stdout",
     "output_type": "stream",
     "text": [
      "UserWarning: System Pristine does not have a correction table. The program will not apply error correction over this system.\n",
      "UserWarning: System GaiaDr3Vega does not have a correction table. The program will not apply error correction over this system.\n"
     ]
    }
   ],
   "source": [
    "synth_phot_corrected = apply_error_correction(synthetic_photometry, output_file='my_file', save_file=False)"
   ]
  }
 ],
 "metadata": {
  "kernelspec": {
   "display_name": "gaiaxpy",
   "language": "python",
   "name": "gaiaxpy"
  },
  "language_info": {
   "codemirror_mode": {
    "name": "ipython",
    "version": 3
   },
   "file_extension": ".py",
   "mimetype": "text/x-python",
   "name": "python",
   "nbconvert_exporter": "python",
   "pygments_lexer": "ipython3",
   "version": "3.8.10"
  }
 },
 "nbformat": 4,
 "nbformat_minor": 4
}
