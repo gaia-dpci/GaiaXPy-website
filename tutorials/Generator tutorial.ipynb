{
 "cells": [
  {
   "cell_type": "markdown",
   "metadata": {},
   "source": [
    "# How to use the generator utility"
   ]
  },
  {
   "cell_type": "markdown",
   "metadata": {},
   "source": [
    "This tool allows to generate synthetic photometry in a set of available systems from the input internally-calibrated continuously-represented mean spectra."
   ]
  },
  {
   "cell_type": "code",
   "execution_count": 1,
   "metadata": {},
   "outputs": [],
   "source": [
    "# Import the tool and the PhotometricSystem class\n",
    "from gaiaxpy import generate, PhotometricSystem"
   ]
  },
  {
   "cell_type": "markdown",
   "metadata": {},
   "source": [
    "We can see which systems are available."
   ]
  },
  {
   "cell_type": "code",
   "execution_count": 2,
   "metadata": {},
   "outputs": [
    {
     "data": {
      "text/plain": [
       "'Els_Custom_W09_S2, Euclid_VIS, Gaia_2, Gaia_DR3_Vega, Halpha_Custom_AB, H_Custom, Hipparcos_Tycho, HST_ACSWFC, HST_HUGS_Std, HST_WFC3UVIS, HST_WFPC2, IPHAS, JKC, JKC_Std, JPAS, JPLUS, JWST_NIRCAM, PanSTARRS1, PanSTARRS1_Std, Pristine, SDSS, SDSS_Std, Stromgren, Stromgren_Std, WFIRST'"
      ]
     },
     "execution_count": 2,
     "metadata": {},
     "output_type": "execute_result"
    }
   ],
   "source": [
    "PhotometricSystem.get_available_systems()"
   ]
  },
  {
   "cell_type": "markdown",
   "metadata": {},
   "source": [
    "!!! **HERE I would add an explanation of regular vs standardised systems.**"
   ]
  },
  {
   "cell_type": "markdown",
   "metadata": {},
   "source": [
    "## Basic usage"
   ]
  },
  {
   "cell_type": "markdown",
   "metadata": {},
   "source": [
    "#### The generator returns a single output: \n",
    "\n",
    " 1. A DataFrame of all synthetic photometry results. The DataFrame contains the magnitudes, fluxes and flux errors for each band in the system."
   ]
  },
  {
   "cell_type": "code",
   "execution_count": 3,
   "metadata": {},
   "outputs": [
    {
     "name": "stdout",
     "output_type": "stream",
     "text": [
      "Processing data [50%]\r",
      "                              \r",
      "Processing data [100%]\r",
      "                              \r"
     ]
    },
    {
     "data": {
      "text/html": [
       "<div>\n",
       "<style scoped>\n",
       "    .dataframe tbody tr th:only-of-type {\n",
       "        vertical-align: middle;\n",
       "    }\n",
       "\n",
       "    .dataframe tbody tr th {\n",
       "        vertical-align: top;\n",
       "    }\n",
       "\n",
       "    .dataframe thead th {\n",
       "        text-align: right;\n",
       "    }\n",
       "</style>\n",
       "<table border=\"1\" class=\"dataframe\">\n",
       "  <thead>\n",
       "    <tr style=\"text-align: right;\">\n",
       "      <th></th>\n",
       "      <th>source_id</th>\n",
       "      <th>GaiaDr3Vega_mag_G</th>\n",
       "      <th>GaiaDr3Vega_mag_BP</th>\n",
       "      <th>GaiaDr3Vega_mag_RP</th>\n",
       "      <th>GaiaDr3Vega_mag_RVS_RP</th>\n",
       "      <th>GaiaDr3Vega_mag_RVS</th>\n",
       "      <th>GaiaDr3Vega_flux_G</th>\n",
       "      <th>GaiaDr3Vega_flux_BP</th>\n",
       "      <th>GaiaDr3Vega_flux_RP</th>\n",
       "      <th>GaiaDr3Vega_flux_RVS_RP</th>\n",
       "      <th>GaiaDr3Vega_flux_RVS</th>\n",
       "      <th>GaiaDr3Vega_flux_error_G</th>\n",
       "      <th>GaiaDr3Vega_flux_error_BP</th>\n",
       "      <th>GaiaDr3Vega_flux_error_RP</th>\n",
       "      <th>GaiaDr3Vega_flux_error_RVS_RP</th>\n",
       "      <th>GaiaDr3Vega_flux_error_RVS</th>\n",
       "    </tr>\n",
       "  </thead>\n",
       "  <tbody>\n",
       "    <tr>\n",
       "      <th>0</th>\n",
       "      <td>6</td>\n",
       "      <td>8.953604</td>\n",
       "      <td>11.353152</td>\n",
       "      <td>7.562385</td>\n",
       "      <td>6.961298</td>\n",
       "      <td>6.956901</td>\n",
       "      <td>6.646585e-15</td>\n",
       "      <td>1.181787e-15</td>\n",
       "      <td>1.225988e-14</td>\n",
       "      <td>1.497480e-14</td>\n",
       "      <td>1.502310e-14</td>\n",
       "      <td>2.687982e-18</td>\n",
       "      <td>1.330194e-18</td>\n",
       "      <td>4.299604e-18</td>\n",
       "      <td>3.048522e-17</td>\n",
       "      <td>3.056536e-17</td>\n",
       "    </tr>\n",
       "    <tr>\n",
       "      <th>1</th>\n",
       "      <td>4</td>\n",
       "      <td>13.172242</td>\n",
       "      <td>13.056574</td>\n",
       "      <td>13.400146</td>\n",
       "      <td>13.455164</td>\n",
       "      <td>13.455571</td>\n",
       "      <td>1.365033e-16</td>\n",
       "      <td>2.461334e-16</td>\n",
       "      <td>5.667372e-17</td>\n",
       "      <td>3.782810e-17</td>\n",
       "      <td>3.778257e-17</td>\n",
       "      <td>5.450830e-20</td>\n",
       "      <td>1.521506e-19</td>\n",
       "      <td>2.870977e-20</td>\n",
       "      <td>1.607094e-19</td>\n",
       "      <td>1.603705e-19</td>\n",
       "    </tr>\n",
       "  </tbody>\n",
       "</table>\n",
       "</div>"
      ],
      "text/plain": [
       "   source_id  GaiaDr3Vega_mag_G  GaiaDr3Vega_mag_BP  GaiaDr3Vega_mag_RP  \\\n",
       "0          6           8.953604           11.353152            7.562385   \n",
       "1          4          13.172242           13.056574           13.400146   \n",
       "\n",
       "   GaiaDr3Vega_mag_RVS_RP  GaiaDr3Vega_mag_RVS  GaiaDr3Vega_flux_G  \\\n",
       "0                6.961298             6.956901        6.646585e-15   \n",
       "1               13.455164            13.455571        1.365033e-16   \n",
       "\n",
       "   GaiaDr3Vega_flux_BP  GaiaDr3Vega_flux_RP  GaiaDr3Vega_flux_RVS_RP  \\\n",
       "0         1.181787e-15         1.225988e-14             1.497480e-14   \n",
       "1         2.461334e-16         5.667372e-17             3.782810e-17   \n",
       "\n",
       "   GaiaDr3Vega_flux_RVS  GaiaDr3Vega_flux_error_G  GaiaDr3Vega_flux_error_BP  \\\n",
       "0          1.502310e-14              2.687982e-18               1.330194e-18   \n",
       "1          3.778257e-17              5.450830e-20               1.521506e-19   \n",
       "\n",
       "   GaiaDr3Vega_flux_error_RP  GaiaDr3Vega_flux_error_RVS_RP  \\\n",
       "0               4.299604e-18                   3.048522e-17   \n",
       "1               2.870977e-20                   1.607094e-19   \n",
       "\n",
       "   GaiaDr3Vega_flux_error_RVS  \n",
       "0                3.056536e-17  \n",
       "1                1.603705e-19  "
      ]
     },
     "execution_count": 3,
     "metadata": {},
     "output_type": "execute_result"
    }
   ],
   "source": [
    "# Path to file with XP CONTINUOUS RAW data (csv, ecsv, fits, or xml)\n",
    "f = '/home/drm/GaiaXPy/tests/files/xp_continuous/XP_CONTINUOUS_RAW_votable_dr3int6.xml'\n",
    "# Select a photometric system\n",
    "phot_system = PhotometricSystem.Gaia_DR3_Vega\n",
    "synthetic_photometry = generate(f, photometric_system=phot_system)\n",
    "synthetic_photometry"
   ]
  },
  {
   "cell_type": "markdown",
   "metadata": {},
   "source": [
    "#### A list of PhotometricSystem objects is also allowed."
   ]
  },
  {
   "cell_type": "code",
   "execution_count": 4,
   "metadata": {},
   "outputs": [
    {
     "name": "stdout",
     "output_type": "stream",
     "text": [
      "Processing data [50%]\r",
      "                              \r",
      "Processing data [100%]\r",
      "                              \r",
      "Processing data [50%]\r",
      "                              \r",
      "Processing data [100%]\r",
      "                              \r",
      "Processing data [50%]\r",
      "                              \r",
      "Processing data [100%]\r",
      "                              \r"
     ]
    },
    {
     "data": {
      "text/html": [
       "<div>\n",
       "<style scoped>\n",
       "    .dataframe tbody tr th:only-of-type {\n",
       "        vertical-align: middle;\n",
       "    }\n",
       "\n",
       "    .dataframe tbody tr th {\n",
       "        vertical-align: top;\n",
       "    }\n",
       "\n",
       "    .dataframe thead th {\n",
       "        text-align: right;\n",
       "    }\n",
       "</style>\n",
       "<table border=\"1\" class=\"dataframe\">\n",
       "  <thead>\n",
       "    <tr style=\"text-align: right;\">\n",
       "      <th></th>\n",
       "      <th>source_id</th>\n",
       "      <th>GaiaDr3Vega_mag_G</th>\n",
       "      <th>GaiaDr3Vega_mag_BP</th>\n",
       "      <th>GaiaDr3Vega_mag_RP</th>\n",
       "      <th>GaiaDr3Vega_mag_RVS_RP</th>\n",
       "      <th>GaiaDr3Vega_mag_RVS</th>\n",
       "      <th>GaiaDr3Vega_flux_G</th>\n",
       "      <th>GaiaDr3Vega_flux_BP</th>\n",
       "      <th>GaiaDr3Vega_flux_RP</th>\n",
       "      <th>GaiaDr3Vega_flux_RVS_RP</th>\n",
       "      <th>...</th>\n",
       "      <th>Jkc_flux_R</th>\n",
       "      <th>Jkc_flux_I</th>\n",
       "      <th>Jkc_flux_error_U</th>\n",
       "      <th>Jkc_flux_error_B</th>\n",
       "      <th>Jkc_flux_error_V</th>\n",
       "      <th>Jkc_flux_error_R</th>\n",
       "      <th>Jkc_flux_error_I</th>\n",
       "      <th>Pristine_mag_CaHK</th>\n",
       "      <th>Pristine_flux_CaHK</th>\n",
       "      <th>Pristine_flux_error_CaHK</th>\n",
       "    </tr>\n",
       "  </thead>\n",
       "  <tbody>\n",
       "    <tr>\n",
       "      <th>0</th>\n",
       "      <td>6</td>\n",
       "      <td>8.953604</td>\n",
       "      <td>11.353152</td>\n",
       "      <td>7.562385</td>\n",
       "      <td>6.961298</td>\n",
       "      <td>6.956901</td>\n",
       "      <td>6.646585e-15</td>\n",
       "      <td>1.181787e-15</td>\n",
       "      <td>1.225988e-14</td>\n",
       "      <td>1.497480e-14</td>\n",
       "      <td>...</td>\n",
       "      <td>3.849211e-15</td>\n",
       "      <td>1.305855e-14</td>\n",
       "      <td>5.966184e-18</td>\n",
       "      <td>7.583555e-19</td>\n",
       "      <td>1.468439e-18</td>\n",
       "      <td>2.945754e-18</td>\n",
       "      <td>7.269074e-18</td>\n",
       "      <td>13.818329</td>\n",
       "      <td>2.162462e-16</td>\n",
       "      <td>9.483388e-18</td>\n",
       "    </tr>\n",
       "    <tr>\n",
       "      <th>1</th>\n",
       "      <td>4</td>\n",
       "      <td>13.172242</td>\n",
       "      <td>13.056574</td>\n",
       "      <td>13.400146</td>\n",
       "      <td>13.455164</td>\n",
       "      <td>13.455571</td>\n",
       "      <td>1.365033e-16</td>\n",
       "      <td>2.461334e-16</td>\n",
       "      <td>5.667372e-17</td>\n",
       "      <td>3.782810e-17</td>\n",
       "      <td>...</td>\n",
       "      <td>1.062562e-16</td>\n",
       "      <td>5.024040e-17</td>\n",
       "      <td>2.702577e-18</td>\n",
       "      <td>3.499559e-19</td>\n",
       "      <td>1.437515e-19</td>\n",
       "      <td>8.295570e-20</td>\n",
       "      <td>3.187286e-20</td>\n",
       "      <td>13.016468</td>\n",
       "      <td>4.525774e-16</td>\n",
       "      <td>4.957204e-18</td>\n",
       "    </tr>\n",
       "  </tbody>\n",
       "</table>\n",
       "<p>2 rows × 34 columns</p>\n",
       "</div>"
      ],
      "text/plain": [
       "   source_id  GaiaDr3Vega_mag_G  GaiaDr3Vega_mag_BP  GaiaDr3Vega_mag_RP  \\\n",
       "0          6           8.953604           11.353152            7.562385   \n",
       "1          4          13.172242           13.056574           13.400146   \n",
       "\n",
       "   GaiaDr3Vega_mag_RVS_RP  GaiaDr3Vega_mag_RVS  GaiaDr3Vega_flux_G  \\\n",
       "0                6.961298             6.956901        6.646585e-15   \n",
       "1               13.455164            13.455571        1.365033e-16   \n",
       "\n",
       "   GaiaDr3Vega_flux_BP  GaiaDr3Vega_flux_RP  GaiaDr3Vega_flux_RVS_RP  ...  \\\n",
       "0         1.181787e-15         1.225988e-14             1.497480e-14  ...   \n",
       "1         2.461334e-16         5.667372e-17             3.782810e-17  ...   \n",
       "\n",
       "     Jkc_flux_R    Jkc_flux_I  Jkc_flux_error_U  Jkc_flux_error_B  \\\n",
       "0  3.849211e-15  1.305855e-14      5.966184e-18      7.583555e-19   \n",
       "1  1.062562e-16  5.024040e-17      2.702577e-18      3.499559e-19   \n",
       "\n",
       "   Jkc_flux_error_V  Jkc_flux_error_R  Jkc_flux_error_I  Pristine_mag_CaHK  \\\n",
       "0      1.468439e-18      2.945754e-18      7.269074e-18          13.818329   \n",
       "1      1.437515e-19      8.295570e-20      3.187286e-20          13.016468   \n",
       "\n",
       "   Pristine_flux_CaHK  Pristine_flux_error_CaHK  \n",
       "0        2.162462e-16              9.483388e-18  \n",
       "1        4.525774e-16              4.957204e-18  \n",
       "\n",
       "[2 rows x 34 columns]"
      ]
     },
     "execution_count": 4,
     "metadata": {},
     "output_type": "execute_result"
    }
   ],
   "source": [
    "# Create a list of photometric systems\n",
    "phot_system_list = [PhotometricSystem.Gaia_DR3_Vega, PhotometricSystem.JKC, PhotometricSystem.Pristine]\n",
    "synthetic_photometry = generate(f, photometric_system=phot_system_list)\n",
    "synthetic_photometry"
   ]
  },
  {
   "cell_type": "markdown",
   "metadata": {},
   "source": [
    "### Input types"
   ]
  },
  {
   "cell_type": "markdown",
   "metadata": {},
   "source": [
    "The input does not have to be a path to a file. There are other options: a pandas DataFrame, an ADQL query or a list of sourceIds."
   ]
  },
  {
   "cell_type": "markdown",
   "metadata": {},
   "source": [
    "#### Passing a DataFrame"
   ]
  },
  {
   "cell_type": "code",
   "execution_count": 5,
   "metadata": {},
   "outputs": [
    {
     "name": "stdout",
     "output_type": "stream",
     "text": [
      "Processing data [50%]\r",
      "                              \r",
      "Processing data [100%]\r",
      "                              \r"
     ]
    },
    {
     "data": {
      "text/html": [
       "<div>\n",
       "<style scoped>\n",
       "    .dataframe tbody tr th:only-of-type {\n",
       "        vertical-align: middle;\n",
       "    }\n",
       "\n",
       "    .dataframe tbody tr th {\n",
       "        vertical-align: top;\n",
       "    }\n",
       "\n",
       "    .dataframe thead th {\n",
       "        text-align: right;\n",
       "    }\n",
       "</style>\n",
       "<table border=\"1\" class=\"dataframe\">\n",
       "  <thead>\n",
       "    <tr style=\"text-align: right;\">\n",
       "      <th></th>\n",
       "      <th>source_id</th>\n",
       "      <th>ElsCustomW09S2_mag_Halpha</th>\n",
       "      <th>ElsCustomW09S2_mag_Hbeta</th>\n",
       "      <th>ElsCustomW09S2_mag_O3</th>\n",
       "      <th>ElsCustomW09S2_mag_CHalpha</th>\n",
       "      <th>ElsCustomW09S2_mag_CHbeta</th>\n",
       "      <th>ElsCustomW09S2_mag_CO3</th>\n",
       "      <th>ElsCustomW09S2_mag_r</th>\n",
       "      <th>ElsCustomW09S2_mag_i</th>\n",
       "      <th>ElsCustomW09S2_flux_Halpha</th>\n",
       "      <th>...</th>\n",
       "      <th>ElsCustomW09S2_flux_r</th>\n",
       "      <th>ElsCustomW09S2_flux_i</th>\n",
       "      <th>ElsCustomW09S2_flux_error_Halpha</th>\n",
       "      <th>ElsCustomW09S2_flux_error_Hbeta</th>\n",
       "      <th>ElsCustomW09S2_flux_error_O3</th>\n",
       "      <th>ElsCustomW09S2_flux_error_CHalpha</th>\n",
       "      <th>ElsCustomW09S2_flux_error_CHbeta</th>\n",
       "      <th>ElsCustomW09S2_flux_error_CO3</th>\n",
       "      <th>ElsCustomW09S2_flux_error_r</th>\n",
       "      <th>ElsCustomW09S2_flux_error_i</th>\n",
       "    </tr>\n",
       "  </thead>\n",
       "  <tbody>\n",
       "    <tr>\n",
       "      <th>0</th>\n",
       "      <td>6</td>\n",
       "      <td>9.322991</td>\n",
       "      <td>12.011327</td>\n",
       "      <td>11.772323</td>\n",
       "      <td>9.996499</td>\n",
       "      <td>12.418602</td>\n",
       "      <td>11.171822</td>\n",
       "      <td>10.234851</td>\n",
       "      <td>7.648620</td>\n",
       "      <td>3.623126e-15</td>\n",
       "      <td>...</td>\n",
       "      <td>2.011775e-15</td>\n",
       "      <td>1.121584e-14</td>\n",
       "      <td>1.406098e-17</td>\n",
       "      <td>3.498787e-18</td>\n",
       "      <td>3.658348e-18</td>\n",
       "      <td>1.145484e-17</td>\n",
       "      <td>4.089499e-18</td>\n",
       "      <td>3.986050e-18</td>\n",
       "      <td>2.963247e-18</td>\n",
       "      <td>7.769417e-18</td>\n",
       "    </tr>\n",
       "    <tr>\n",
       "      <th>1</th>\n",
       "      <td>4</td>\n",
       "      <td>13.351317</td>\n",
       "      <td>13.148944</td>\n",
       "      <td>13.131454</td>\n",
       "      <td>13.267574</td>\n",
       "      <td>13.018520</td>\n",
       "      <td>13.134297</td>\n",
       "      <td>13.261007</td>\n",
       "      <td>13.393298</td>\n",
       "      <td>8.866521e-17</td>\n",
       "      <td>...</td>\n",
       "      <td>1.239131e-16</td>\n",
       "      <td>5.648860e-17</td>\n",
       "      <td>2.775161e-19</td>\n",
       "      <td>6.395538e-19</td>\n",
       "      <td>5.618435e-19</td>\n",
       "      <td>4.977891e-19</td>\n",
       "      <td>1.078377e-18</td>\n",
       "      <td>4.220456e-19</td>\n",
       "      <td>1.054331e-19</td>\n",
       "      <td>3.647871e-20</td>\n",
       "    </tr>\n",
       "  </tbody>\n",
       "</table>\n",
       "<p>2 rows × 25 columns</p>\n",
       "</div>"
      ],
      "text/plain": [
       "   source_id  ElsCustomW09S2_mag_Halpha  ElsCustomW09S2_mag_Hbeta  \\\n",
       "0          6                   9.322991                 12.011327   \n",
       "1          4                  13.351317                 13.148944   \n",
       "\n",
       "   ElsCustomW09S2_mag_O3  ElsCustomW09S2_mag_CHalpha  \\\n",
       "0              11.772323                    9.996499   \n",
       "1              13.131454                   13.267574   \n",
       "\n",
       "   ElsCustomW09S2_mag_CHbeta  ElsCustomW09S2_mag_CO3  ElsCustomW09S2_mag_r  \\\n",
       "0                  12.418602               11.171822             10.234851   \n",
       "1                  13.018520               13.134297             13.261007   \n",
       "\n",
       "   ElsCustomW09S2_mag_i  ElsCustomW09S2_flux_Halpha  ...  \\\n",
       "0              7.648620                3.623126e-15  ...   \n",
       "1             13.393298                8.866521e-17  ...   \n",
       "\n",
       "   ElsCustomW09S2_flux_r  ElsCustomW09S2_flux_i  \\\n",
       "0           2.011775e-15           1.121584e-14   \n",
       "1           1.239131e-16           5.648860e-17   \n",
       "\n",
       "   ElsCustomW09S2_flux_error_Halpha  ElsCustomW09S2_flux_error_Hbeta  \\\n",
       "0                      1.406098e-17                     3.498787e-18   \n",
       "1                      2.775161e-19                     6.395538e-19   \n",
       "\n",
       "   ElsCustomW09S2_flux_error_O3  ElsCustomW09S2_flux_error_CHalpha  \\\n",
       "0                  3.658348e-18                       1.145484e-17   \n",
       "1                  5.618435e-19                       4.977891e-19   \n",
       "\n",
       "   ElsCustomW09S2_flux_error_CHbeta  ElsCustomW09S2_flux_error_CO3  \\\n",
       "0                      4.089499e-18                   3.986050e-18   \n",
       "1                      1.078377e-18                   4.220456e-19   \n",
       "\n",
       "   ElsCustomW09S2_flux_error_r  ElsCustomW09S2_flux_error_i  \n",
       "0                 2.963247e-18                 7.769417e-18  \n",
       "1                 1.054331e-19                 3.647871e-20  \n",
       "\n",
       "[2 rows x 25 columns]"
      ]
     },
     "execution_count": 5,
     "metadata": {},
     "output_type": "execute_result"
    }
   ],
   "source": [
    "import pandas as pd\n",
    "\n",
    "f = '/home/drm/GaiaXPy/tests/files/xp_continuous/XP_CONTINUOUS_RAW_dr3int6.csv'\n",
    "df = pd.read_csv(f) # The values in the DataFrame can be edited if the user wishes to do so.\n",
    "\n",
    "synthetic_photometry = generate(df, photometric_system=PhotometricSystem.Els_Custom_W09_S2)\n",
    "synthetic_photometry"
   ]
  },
  {
   "cell_type": "markdown",
   "metadata": {},
   "source": [
    "#### Running a query"
   ]
  },
  {
   "cell_type": "markdown",
   "metadata": {},
   "source": [
    "**Important note**: Currently the data in the Gaia Archive is not public. The following code will <span style=\"color:red\">not</span> work until DR3."
   ]
  },
  {
   "cell_type": "code",
   "execution_count": 6,
   "metadata": {},
   "outputs": [
    {
     "name": "stdout",
     "output_type": "stream",
     "text": [
      "INFO: Login to gaia TAP server [astroquery.gaia.core]\n",
      "User: druzmier\n",
      "Password: ········\n",
      "OK\n",
      "INFO: Login to gaia data server [astroquery.gaia.core]\n",
      "OK\n",
      "INFO: Query finished. [astroquery.utils.tap.core]\n",
      "                              \r"
     ]
    },
    {
     "data": {
      "text/html": [
       "<div>\n",
       "<style scoped>\n",
       "    .dataframe tbody tr th:only-of-type {\n",
       "        vertical-align: middle;\n",
       "    }\n",
       "\n",
       "    .dataframe tbody tr th {\n",
       "        vertical-align: top;\n",
       "    }\n",
       "\n",
       "    .dataframe thead th {\n",
       "        text-align: right;\n",
       "    }\n",
       "</style>\n",
       "<table border=\"1\" class=\"dataframe\">\n",
       "  <thead>\n",
       "    <tr style=\"text-align: right;\">\n",
       "      <th></th>\n",
       "      <th>source_id</th>\n",
       "      <th>Stromgren_mag_u</th>\n",
       "      <th>Stromgren_mag_v</th>\n",
       "      <th>Stromgren_mag_b</th>\n",
       "      <th>Stromgren_mag_y</th>\n",
       "      <th>Stromgren_flux_u</th>\n",
       "      <th>Stromgren_flux_v</th>\n",
       "      <th>Stromgren_flux_b</th>\n",
       "      <th>Stromgren_flux_y</th>\n",
       "      <th>Stromgren_flux_error_u</th>\n",
       "      <th>...</th>\n",
       "      <th>StromgrenStd_mag_b</th>\n",
       "      <th>StromgrenStd_mag_y</th>\n",
       "      <th>StromgrenStd_flux_u</th>\n",
       "      <th>StromgrenStd_flux_v</th>\n",
       "      <th>StromgrenStd_flux_b</th>\n",
       "      <th>StromgrenStd_flux_y</th>\n",
       "      <th>StromgrenStd_flux_error_u</th>\n",
       "      <th>StromgrenStd_flux_error_v</th>\n",
       "      <th>StromgrenStd_flux_error_b</th>\n",
       "      <th>StromgrenStd_flux_error_y</th>\n",
       "    </tr>\n",
       "  </thead>\n",
       "  <tbody>\n",
       "    <tr>\n",
       "      <th>0</th>\n",
       "      <td>6030020833890693248</td>\n",
       "      <td>17.800398</td>\n",
       "      <td>18.272564</td>\n",
       "      <td>16.719616</td>\n",
       "      <td>15.640904</td>\n",
       "      <td>2.753218e-30</td>\n",
       "      <td>1.782274e-30</td>\n",
       "      <td>7.449957e-30</td>\n",
       "      <td>2.012049e-29</td>\n",
       "      <td>2.920922e-31</td>\n",
       "      <td>...</td>\n",
       "      <td>16.901830</td>\n",
       "      <td>15.673323</td>\n",
       "      <td>2.752540e-30</td>\n",
       "      <td>1.958493e-30</td>\n",
       "      <td>7.194956e-30</td>\n",
       "      <td>1.987151e-29</td>\n",
       "      <td>2.920292e-31</td>\n",
       "      <td>1.043331e-31</td>\n",
       "      <td>9.554138e-32</td>\n",
       "      <td>1.968858e-31</td>\n",
       "    </tr>\n",
       "    <tr>\n",
       "      <th>1</th>\n",
       "      <td>6030064028385961344</td>\n",
       "      <td>17.481469</td>\n",
       "      <td>19.351867</td>\n",
       "      <td>18.399179</td>\n",
       "      <td>17.897489</td>\n",
       "      <td>3.693281e-30</td>\n",
       "      <td>6.595584e-31</td>\n",
       "      <td>1.586092e-30</td>\n",
       "      <td>2.517702e-30</td>\n",
       "      <td>5.435962e-31</td>\n",
       "      <td>...</td>\n",
       "      <td>18.599831</td>\n",
       "      <td>17.953763</td>\n",
       "      <td>3.692461e-30</td>\n",
       "      <td>6.827172e-31</td>\n",
       "      <td>1.506009e-30</td>\n",
       "      <td>2.432511e-30</td>\n",
       "      <td>5.434962e-31</td>\n",
       "      <td>6.971673e-32</td>\n",
       "      <td>5.017006e-32</td>\n",
       "      <td>7.751200e-32</td>\n",
       "    </tr>\n",
       "  </tbody>\n",
       "</table>\n",
       "<p>2 rows × 25 columns</p>\n",
       "</div>"
      ],
      "text/plain": [
       "             source_id  Stromgren_mag_u  Stromgren_mag_v  Stromgren_mag_b  \\\n",
       "0  6030020833890693248        17.800398        18.272564        16.719616   \n",
       "1  6030064028385961344        17.481469        19.351867        18.399179   \n",
       "\n",
       "   Stromgren_mag_y  Stromgren_flux_u  Stromgren_flux_v  Stromgren_flux_b  \\\n",
       "0        15.640904      2.753218e-30      1.782274e-30      7.449957e-30   \n",
       "1        17.897489      3.693281e-30      6.595584e-31      1.586092e-30   \n",
       "\n",
       "   Stromgren_flux_y  Stromgren_flux_error_u  ...  StromgrenStd_mag_b  \\\n",
       "0      2.012049e-29            2.920922e-31  ...           16.901830   \n",
       "1      2.517702e-30            5.435962e-31  ...           18.599831   \n",
       "\n",
       "   StromgrenStd_mag_y  StromgrenStd_flux_u  StromgrenStd_flux_v  \\\n",
       "0           15.673323         2.752540e-30         1.958493e-30   \n",
       "1           17.953763         3.692461e-30         6.827172e-31   \n",
       "\n",
       "   StromgrenStd_flux_b  StromgrenStd_flux_y  StromgrenStd_flux_error_u  \\\n",
       "0         7.194956e-30         1.987151e-29               2.920292e-31   \n",
       "1         1.506009e-30         2.432511e-30               5.434962e-31   \n",
       "\n",
       "   StromgrenStd_flux_error_v  StromgrenStd_flux_error_b  \\\n",
       "0               1.043331e-31               9.554138e-32   \n",
       "1               6.971673e-32               5.017006e-32   \n",
       "\n",
       "   StromgrenStd_flux_error_y  \n",
       "0               1.968858e-31  \n",
       "1               7.751200e-32  \n",
       "\n",
       "[2 rows x 25 columns]"
      ]
     },
     "execution_count": 6,
     "metadata": {},
     "output_type": "execute_result"
    }
   ],
   "source": [
    "query_input = \"select TOP 2 source_id from user_dr3int6.gaia_source where has_xp_continuous = 'True'\"\n",
    "phot_system_list = [PhotometricSystem.Stromgren, PhotometricSystem.Stromgren_Std]\n",
    "synthetic_photometry = generate(query_input, photometric_system=phot_system_list)\n",
    "synthetic_photometry"
   ]
  },
  {
   "cell_type": "markdown",
   "metadata": {},
   "source": [
    "#### Passing a list\n",
    "\n",
    "A list of sourceIds can be passed to the generator as the first argument. The generator will then query the Archive for these objects."
   ]
  },
  {
   "cell_type": "code",
   "execution_count": 7,
   "metadata": {},
   "outputs": [
    {
     "name": "stdout",
     "output_type": "stream",
     "text": [
      "INFO: Login to gaia TAP server [astroquery.gaia.core]\n",
      "User: druzmier\n",
      "Password: ········\n",
      "OK\n",
      "INFO: Login to gaia data server [astroquery.gaia.core]\n",
      "OK\n",
      "                              \r"
     ]
    },
    {
     "data": {
      "text/html": [
       "<div>\n",
       "<style scoped>\n",
       "    .dataframe tbody tr th:only-of-type {\n",
       "        vertical-align: middle;\n",
       "    }\n",
       "\n",
       "    .dataframe tbody tr th {\n",
       "        vertical-align: top;\n",
       "    }\n",
       "\n",
       "    .dataframe thead th {\n",
       "        text-align: right;\n",
       "    }\n",
       "</style>\n",
       "<table border=\"1\" class=\"dataframe\">\n",
       "  <thead>\n",
       "    <tr style=\"text-align: right;\">\n",
       "      <th></th>\n",
       "      <th>source_id</th>\n",
       "      <th>JkcStd_mag_U</th>\n",
       "      <th>JkcStd_mag_B</th>\n",
       "      <th>JkcStd_mag_V</th>\n",
       "      <th>JkcStd_mag_R</th>\n",
       "      <th>JkcStd_mag_I</th>\n",
       "      <th>JkcStd_flux_U</th>\n",
       "      <th>JkcStd_flux_B</th>\n",
       "      <th>JkcStd_flux_V</th>\n",
       "      <th>JkcStd_flux_R</th>\n",
       "      <th>JkcStd_flux_I</th>\n",
       "      <th>JkcStd_flux_error_U</th>\n",
       "      <th>JkcStd_flux_error_B</th>\n",
       "      <th>JkcStd_flux_error_V</th>\n",
       "      <th>JkcStd_flux_error_R</th>\n",
       "      <th>JkcStd_flux_error_I</th>\n",
       "    </tr>\n",
       "  </thead>\n",
       "  <tbody>\n",
       "    <tr>\n",
       "      <th>0</th>\n",
       "      <td>6030020833890693248</td>\n",
       "      <td>17.313257</td>\n",
       "      <td>17.476459</td>\n",
       "      <td>15.704760</td>\n",
       "      <td>14.528387</td>\n",
       "      <td>13.199215</td>\n",
       "      <td>5.434222e-18</td>\n",
       "      <td>6.622414e-18</td>\n",
       "      <td>1.921569e-17</td>\n",
       "      <td>3.450842e-17</td>\n",
       "      <td>6.192043e-17</td>\n",
       "      <td>4.475145e-19</td>\n",
       "      <td>4.778960e-20</td>\n",
       "      <td>3.725142e-20</td>\n",
       "      <td>3.929187e-20</td>\n",
       "      <td>3.980868e-20</td>\n",
       "    </tr>\n",
       "    <tr>\n",
       "      <th>1</th>\n",
       "      <td>6030064028385961344</td>\n",
       "      <td>17.333973</td>\n",
       "      <td>19.025791</td>\n",
       "      <td>17.914239</td>\n",
       "      <td>17.133965</td>\n",
       "      <td>16.512081</td>\n",
       "      <td>5.331519e-18</td>\n",
       "      <td>1.589584e-18</td>\n",
       "      <td>2.511103e-18</td>\n",
       "      <td>3.131078e-18</td>\n",
       "      <td>2.928785e-18</td>\n",
       "      <td>7.467517e-19</td>\n",
       "      <td>2.767727e-20</td>\n",
       "      <td>1.521533e-20</td>\n",
       "      <td>1.644628e-20</td>\n",
       "      <td>1.049679e-20</td>\n",
       "    </tr>\n",
       "  </tbody>\n",
       "</table>\n",
       "</div>"
      ],
      "text/plain": [
       "             source_id  JkcStd_mag_U  JkcStd_mag_B  JkcStd_mag_V  \\\n",
       "0  6030020833890693248     17.313257     17.476459     15.704760   \n",
       "1  6030064028385961344     17.333973     19.025791     17.914239   \n",
       "\n",
       "   JkcStd_mag_R  JkcStd_mag_I  JkcStd_flux_U  JkcStd_flux_B  JkcStd_flux_V  \\\n",
       "0     14.528387     13.199215   5.434222e-18   6.622414e-18   1.921569e-17   \n",
       "1     17.133965     16.512081   5.331519e-18   1.589584e-18   2.511103e-18   \n",
       "\n",
       "   JkcStd_flux_R  JkcStd_flux_I  JkcStd_flux_error_U  JkcStd_flux_error_B  \\\n",
       "0   3.450842e-17   6.192043e-17         4.475145e-19         4.778960e-20   \n",
       "1   3.131078e-18   2.928785e-18         7.467517e-19         2.767727e-20   \n",
       "\n",
       "   JkcStd_flux_error_V  JkcStd_flux_error_R  JkcStd_flux_error_I  \n",
       "0         3.725142e-20         3.929187e-20         3.980868e-20  \n",
       "1         1.521533e-20         1.644628e-20         1.049679e-20  "
      ]
     },
     "execution_count": 7,
     "metadata": {},
     "output_type": "execute_result"
    }
   ],
   "source": [
    "sources_list = ['6030020833890693248', 6030064028385961344] # The sourceIds can be string or long.\n",
    "synthetic_photometry = generate(sources_list, photometric_system=PhotometricSystem.JKC_Std)\n",
    "synthetic_photometry"
   ]
  },
  {
   "cell_type": "markdown",
   "metadata": {},
   "source": [
    "## Advanced usage"
   ]
  },
  {
   "cell_type": "markdown",
   "metadata": {},
   "source": [
    "The generator contains shortcuts for two other tools:\n",
    "\n",
    "1. Application of the colour equation\n",
    "2. Error correction"
   ]
  },
  {
   "cell_type": "markdown",
   "metadata": {},
   "source": [
    "#### Colour equation\n",
    "\n",
    "!!! **HERE: Missing description**"
   ]
  },
  {
   "cell_type": "code",
   "execution_count": 8,
   "metadata": {},
   "outputs": [
    {
     "name": "stdout",
     "output_type": "stream",
     "text": [
      "Processing data [50%]\r",
      "                              \r",
      "Processing data [100%]\r",
      "                              \r",
      "Processing data [50%]\r",
      "                              \r",
      "Processing data [100%]\r",
      "                              \r",
      "Processing data [50%]\r",
      "                              \r",
      "Processing data [100%]\r",
      "                              \r",
      "UserWarning: Colour equation cannot be applied over system Pristine. The program will skip this system.\n",
      "Processing data [50%]\r",
      "                              \r",
      "Processing data [100%]\r",
      "                              \r",
      "Processing data [50%]\r",
      "                              \r",
      "Processing data [100%]\r",
      "                              \r"
     ]
    },
    {
     "data": {
      "text/html": [
       "<div>\n",
       "<style scoped>\n",
       "    .dataframe tbody tr th:only-of-type {\n",
       "        vertical-align: middle;\n",
       "    }\n",
       "\n",
       "    .dataframe tbody tr th {\n",
       "        vertical-align: top;\n",
       "    }\n",
       "\n",
       "    .dataframe thead th {\n",
       "        text-align: right;\n",
       "    }\n",
       "</style>\n",
       "<table border=\"1\" class=\"dataframe\">\n",
       "  <thead>\n",
       "    <tr style=\"text-align: right;\">\n",
       "      <th></th>\n",
       "      <th>source_id</th>\n",
       "      <th>SdssStd_mag_u</th>\n",
       "      <th>SdssStd_mag_g</th>\n",
       "      <th>SdssStd_mag_r</th>\n",
       "      <th>SdssStd_mag_i</th>\n",
       "      <th>SdssStd_mag_z</th>\n",
       "      <th>SdssStd_flux_u</th>\n",
       "      <th>SdssStd_flux_g</th>\n",
       "      <th>SdssStd_flux_r</th>\n",
       "      <th>SdssStd_flux_i</th>\n",
       "      <th>...</th>\n",
       "      <th>JkcStd_flux_R</th>\n",
       "      <th>JkcStd_flux_I</th>\n",
       "      <th>JkcStd_flux_error_U</th>\n",
       "      <th>JkcStd_flux_error_B</th>\n",
       "      <th>JkcStd_flux_error_V</th>\n",
       "      <th>JkcStd_flux_error_R</th>\n",
       "      <th>JkcStd_flux_error_I</th>\n",
       "      <th>Pristine_mag_CaHK</th>\n",
       "      <th>Pristine_flux_CaHK</th>\n",
       "      <th>Pristine_flux_error_CaHK</th>\n",
       "    </tr>\n",
       "  </thead>\n",
       "  <tbody>\n",
       "    <tr>\n",
       "      <th>0</th>\n",
       "      <td>6</td>\n",
       "      <td>14.978564</td>\n",
       "      <td>12.005932</td>\n",
       "      <td>10.418989</td>\n",
       "      <td>8.261568</td>\n",
       "      <td>7.085494</td>\n",
       "      <td>4.938265e-29</td>\n",
       "      <td>5.614966e-28</td>\n",
       "      <td>2.450442e-27</td>\n",
       "      <td>1.768695e-26</td>\n",
       "      <td>...</td>\n",
       "      <td>3.712287e-15</td>\n",
       "      <td>1.303160e-14</td>\n",
       "      <td>1.891100e-18</td>\n",
       "      <td>8.066297e-19</td>\n",
       "      <td>1.463839e-18</td>\n",
       "      <td>2.914519e-18</td>\n",
       "      <td>7.248322e-18</td>\n",
       "      <td>13.818329</td>\n",
       "      <td>2.162462e-16</td>\n",
       "      <td>9.483388e-18</td>\n",
       "    </tr>\n",
       "    <tr>\n",
       "      <th>1</th>\n",
       "      <td>4</td>\n",
       "      <td>12.801699</td>\n",
       "      <td>12.955110</td>\n",
       "      <td>13.375373</td>\n",
       "      <td>13.702016</td>\n",
       "      <td>14.012817</td>\n",
       "      <td>3.667079e-28</td>\n",
       "      <td>2.342481e-28</td>\n",
       "      <td>1.609499e-28</td>\n",
       "      <td>1.178891e-28</td>\n",
       "      <td>...</td>\n",
       "      <td>1.073687e-16</td>\n",
       "      <td>5.036974e-17</td>\n",
       "      <td>3.331053e-18</td>\n",
       "      <td>3.524604e-19</td>\n",
       "      <td>1.415917e-19</td>\n",
       "      <td>8.478575e-20</td>\n",
       "      <td>3.183505e-20</td>\n",
       "      <td>13.016468</td>\n",
       "      <td>4.525774e-16</td>\n",
       "      <td>4.957204e-18</td>\n",
       "    </tr>\n",
       "  </tbody>\n",
       "</table>\n",
       "<p>2 rows × 34 columns</p>\n",
       "</div>"
      ],
      "text/plain": [
       "   source_id  SdssStd_mag_u  SdssStd_mag_g  SdssStd_mag_r  SdssStd_mag_i  \\\n",
       "0          6      14.978564      12.005932      10.418989       8.261568   \n",
       "1          4      12.801699      12.955110      13.375373      13.702016   \n",
       "\n",
       "   SdssStd_mag_z  SdssStd_flux_u  SdssStd_flux_g  SdssStd_flux_r  \\\n",
       "0       7.085494    4.938265e-29    5.614966e-28    2.450442e-27   \n",
       "1      14.012817    3.667079e-28    2.342481e-28    1.609499e-28   \n",
       "\n",
       "   SdssStd_flux_i  ...  JkcStd_flux_R  JkcStd_flux_I  JkcStd_flux_error_U  \\\n",
       "0    1.768695e-26  ...   3.712287e-15   1.303160e-14         1.891100e-18   \n",
       "1    1.178891e-28  ...   1.073687e-16   5.036974e-17         3.331053e-18   \n",
       "\n",
       "   JkcStd_flux_error_B  JkcStd_flux_error_V  JkcStd_flux_error_R  \\\n",
       "0         8.066297e-19         1.463839e-18         2.914519e-18   \n",
       "1         3.524604e-19         1.415917e-19         8.478575e-20   \n",
       "\n",
       "   JkcStd_flux_error_I  Pristine_mag_CaHK  Pristine_flux_CaHK  \\\n",
       "0         7.248322e-18          13.818329        2.162462e-16   \n",
       "1         3.183505e-20          13.016468        4.525774e-16   \n",
       "\n",
       "   Pristine_flux_error_CaHK  \n",
       "0              9.483388e-18  \n",
       "1              4.957204e-18  \n",
       "\n",
       "[2 rows x 34 columns]"
      ]
     },
     "execution_count": 8,
     "metadata": {},
     "output_type": "execute_result"
    }
   ],
   "source": [
    "# To apply the colour equation, first create a list of systems.\n",
    "phot_system_list = [PhotometricSystem.SDSS_Std, PhotometricSystem.JKC_Std, PhotometricSystem.Pristine]\n",
    "synthetic_phot_colour = generate(df, photometric_system=phot_system_list, colour_equation=True)\n",
    "synthetic_phot_colour"
   ]
  },
  {
   "cell_type": "markdown",
   "metadata": {},
   "source": [
    "We can verify that, for the SDSS_Std system only the u band was affected by the colour equation. (The same can be done for JKC_Std and the U band.)"
   ]
  },
  {
   "cell_type": "code",
   "execution_count": 9,
   "metadata": {},
   "outputs": [
    {
     "name": "stdout",
     "output_type": "stream",
     "text": [
      "Processing data [50%]\r",
      "                              \r",
      "Processing data [100%]\r",
      "                              \r",
      "Processing data [50%]\r",
      "                              \r",
      "Processing data [100%]\r",
      "                              \r",
      "Processing data [50%]\r",
      "                              \r",
      "Processing data [100%]\r",
      "                              \r"
     ]
    }
   ],
   "source": [
    "# To compare, we compute the photometry for the same systems without applyting the colour equation.\n",
    "synthetic_phot_regular = generate(df, photometric_system=phot_system_list) # False is the default value"
   ]
  },
  {
   "cell_type": "code",
   "execution_count": 10,
   "metadata": {},
   "outputs": [],
   "source": [
    "# Get the bands of both systems\n",
    "SDSS_Std_bands = PhotometricSystem.SDSS_Std.get_bands()\n",
    "JKC_Std_bands = PhotometricSystem.JKC_Std.get_bands()"
   ]
  },
  {
   "cell_type": "code",
   "execution_count": 11,
   "metadata": {},
   "outputs": [],
   "source": [
    "# Now we can get the columns that correspond to Sdss_Std system for both DataFrames\n",
    "SDSS_columns = [column for column in synthetic_phot_colour.columns if column.startswith('Sdss')]\n",
    "SDSS_Std_colour = synthetic_phot_colour[SDSS_columns]\n",
    "SDSS_Std_regular = synthetic_phot_regular[SDSS_columns]"
   ]
  },
  {
   "cell_type": "markdown",
   "metadata": {},
   "source": [
    "By running the following command we can see the differences between both DataFrames:"
   ]
  },
  {
   "cell_type": "code",
   "execution_count": 12,
   "metadata": {},
   "outputs": [
    {
     "name": "stdout",
     "output_type": "stream",
     "text": [
      "DataFrame.iloc[:, 0] (column name=\"SdssStd_mag_u\") are different\n",
      "\n",
      "DataFrame.iloc[:, 0] (column name=\"SdssStd_mag_u\") values are different (100.0 %)\n",
      "[index]: [0, 1]\n",
      "[left]:  [14.978564096031178, 12.801699351631417]\n",
      "[right]: [14.422186111443999, 13.31891593528281]\n"
     ]
    }
   ],
   "source": [
    "import pandas.testing as pdt\n",
    "try:\n",
    "    pdt.assert_frame_equal(SDSS_Std_colour, SDSS_Std_regular)\n",
    "except AssertionError as err:\n",
    "    print(err)"
   ]
  },
  {
   "cell_type": "markdown",
   "metadata": {},
   "source": [
    "If the colour equation is applied over a system for which this correction is not available, no changes will be made to this system."
   ]
  },
  {
   "cell_type": "code",
   "execution_count": 13,
   "metadata": {},
   "outputs": [
    {
     "name": "stdout",
     "output_type": "stream",
     "text": [
      "UserWarning: Colour equation cannot be applied over system Iphas. The program will skip this system.\n",
      "Are the outputs equal? False  \n",
      "Are the SDSS columns equal? False\n",
      "Are the IPHAS columns equal? True\n"
     ]
    }
   ],
   "source": [
    "# The first system will change, the second will not.\n",
    "phot_system_list = [PhotometricSystem.SDSS_Std, PhotometricSystem.IPHAS]\n",
    "synthetic_phot_regular = generate(df, photometric_system=phot_system_list)\n",
    "synthetic_phot_colour = generate(df, photometric_system=phot_system_list, colour_equation=True)\n",
    "# The outputs are different\n",
    "print(f'Are the outputs equal? {synthetic_phot_colour.equals(synthetic_phot_regular)}')\n",
    "sdss_columns = [column for column in synthetic_phot_colour.columns if column.startswith('Sdss')]\n",
    "print(f'Are the SDSS columns equal? {synthetic_phot_colour[sdss_columns].equals(synthetic_phot_regular[sdss_columns])}')\n",
    "iphas_columns = [column for column in synthetic_phot_colour.columns if column.startswith('Iphas')]\n",
    "print(f'Are the IPHAS columns equal? {synthetic_phot_colour[iphas_columns].equals(synthetic_phot_regular[iphas_columns])}')"
   ]
  },
  {
   "cell_type": "markdown",
   "metadata": {},
   "source": [
    "#### Error correction\n",
    "\n",
    "!!! **HERE: Missing description**"
   ]
  },
  {
   "cell_type": "code",
   "execution_count": 14,
   "metadata": {},
   "outputs": [
    {
     "name": "stdout",
     "output_type": "stream",
     "text": [
      "UserWarning: System ElsCustomW09S2 does not have a correction table. The program will not apply error correction over this system.\n"
     ]
    },
    {
     "data": {
      "text/html": [
       "<div>\n",
       "<style scoped>\n",
       "    .dataframe tbody tr th:only-of-type {\n",
       "        vertical-align: middle;\n",
       "    }\n",
       "\n",
       "    .dataframe tbody tr th {\n",
       "        vertical-align: top;\n",
       "    }\n",
       "\n",
       "    .dataframe thead th {\n",
       "        text-align: right;\n",
       "    }\n",
       "</style>\n",
       "<table border=\"1\" class=\"dataframe\">\n",
       "  <thead>\n",
       "    <tr style=\"text-align: right;\">\n",
       "      <th></th>\n",
       "      <th>source_id</th>\n",
       "      <th>EuclidVis_mag_VIS</th>\n",
       "      <th>EuclidVis_flux_VIS</th>\n",
       "      <th>EuclidVis_flux_error_VIS</th>\n",
       "      <th>ElsCustomW09S2_mag_Halpha</th>\n",
       "      <th>ElsCustomW09S2_mag_Hbeta</th>\n",
       "      <th>ElsCustomW09S2_mag_O3</th>\n",
       "      <th>ElsCustomW09S2_mag_CHalpha</th>\n",
       "      <th>ElsCustomW09S2_mag_CHbeta</th>\n",
       "      <th>ElsCustomW09S2_mag_CO3</th>\n",
       "      <th>...</th>\n",
       "      <th>ElsCustomW09S2_flux_r</th>\n",
       "      <th>ElsCustomW09S2_flux_i</th>\n",
       "      <th>ElsCustomW09S2_flux_error_Halpha</th>\n",
       "      <th>ElsCustomW09S2_flux_error_Hbeta</th>\n",
       "      <th>ElsCustomW09S2_flux_error_O3</th>\n",
       "      <th>ElsCustomW09S2_flux_error_CHalpha</th>\n",
       "      <th>ElsCustomW09S2_flux_error_CHbeta</th>\n",
       "      <th>ElsCustomW09S2_flux_error_CO3</th>\n",
       "      <th>ElsCustomW09S2_flux_error_r</th>\n",
       "      <th>ElsCustomW09S2_flux_error_i</th>\n",
       "    </tr>\n",
       "  </thead>\n",
       "  <tbody>\n",
       "    <tr>\n",
       "      <th>0</th>\n",
       "      <td>6</td>\n",
       "      <td>8.229913</td>\n",
       "      <td>8.775556e-15</td>\n",
       "      <td>1.483339e-17</td>\n",
       "      <td>9.322991</td>\n",
       "      <td>12.011327</td>\n",
       "      <td>11.772323</td>\n",
       "      <td>9.996499</td>\n",
       "      <td>12.418602</td>\n",
       "      <td>11.171822</td>\n",
       "      <td>...</td>\n",
       "      <td>2.011775e-15</td>\n",
       "      <td>1.121584e-14</td>\n",
       "      <td>1.406098e-17</td>\n",
       "      <td>3.498787e-18</td>\n",
       "      <td>3.658348e-18</td>\n",
       "      <td>1.145484e-17</td>\n",
       "      <td>4.089499e-18</td>\n",
       "      <td>3.986050e-18</td>\n",
       "      <td>2.963247e-18</td>\n",
       "      <td>7.769417e-18</td>\n",
       "    </tr>\n",
       "    <tr>\n",
       "      <th>1</th>\n",
       "      <td>4</td>\n",
       "      <td>13.318073</td>\n",
       "      <td>8.091163e-17</td>\n",
       "      <td>1.059743e-19</td>\n",
       "      <td>13.351317</td>\n",
       "      <td>13.148944</td>\n",
       "      <td>13.131454</td>\n",
       "      <td>13.267574</td>\n",
       "      <td>13.018520</td>\n",
       "      <td>13.134297</td>\n",
       "      <td>...</td>\n",
       "      <td>1.239131e-16</td>\n",
       "      <td>5.648860e-17</td>\n",
       "      <td>2.775161e-19</td>\n",
       "      <td>6.395538e-19</td>\n",
       "      <td>5.618435e-19</td>\n",
       "      <td>4.977891e-19</td>\n",
       "      <td>1.078377e-18</td>\n",
       "      <td>4.220456e-19</td>\n",
       "      <td>1.054331e-19</td>\n",
       "      <td>3.647871e-20</td>\n",
       "    </tr>\n",
       "  </tbody>\n",
       "</table>\n",
       "<p>2 rows × 28 columns</p>\n",
       "</div>"
      ],
      "text/plain": [
       "   source_id  EuclidVis_mag_VIS  EuclidVis_flux_VIS  EuclidVis_flux_error_VIS  \\\n",
       "0          6           8.229913        8.775556e-15              1.483339e-17   \n",
       "1          4          13.318073        8.091163e-17              1.059743e-19   \n",
       "\n",
       "   ElsCustomW09S2_mag_Halpha  ElsCustomW09S2_mag_Hbeta  ElsCustomW09S2_mag_O3  \\\n",
       "0                   9.322991                 12.011327              11.772323   \n",
       "1                  13.351317                 13.148944              13.131454   \n",
       "\n",
       "   ElsCustomW09S2_mag_CHalpha  ElsCustomW09S2_mag_CHbeta  \\\n",
       "0                    9.996499                  12.418602   \n",
       "1                   13.267574                  13.018520   \n",
       "\n",
       "   ElsCustomW09S2_mag_CO3  ...  ElsCustomW09S2_flux_r  ElsCustomW09S2_flux_i  \\\n",
       "0               11.171822  ...           2.011775e-15           1.121584e-14   \n",
       "1               13.134297  ...           1.239131e-16           5.648860e-17   \n",
       "\n",
       "   ElsCustomW09S2_flux_error_Halpha  ElsCustomW09S2_flux_error_Hbeta  \\\n",
       "0                      1.406098e-17                     3.498787e-18   \n",
       "1                      2.775161e-19                     6.395538e-19   \n",
       "\n",
       "   ElsCustomW09S2_flux_error_O3  ElsCustomW09S2_flux_error_CHalpha  \\\n",
       "0                  3.658348e-18                       1.145484e-17   \n",
       "1                  5.618435e-19                       4.977891e-19   \n",
       "\n",
       "   ElsCustomW09S2_flux_error_CHbeta  ElsCustomW09S2_flux_error_CO3  \\\n",
       "0                      4.089499e-18                   3.986050e-18   \n",
       "1                      1.078377e-18                   4.220456e-19   \n",
       "\n",
       "   ElsCustomW09S2_flux_error_r  ElsCustomW09S2_flux_error_i  \n",
       "0                 2.963247e-18                 7.769417e-18  \n",
       "1                 1.054331e-19                 3.647871e-20  \n",
       "\n",
       "[2 rows x 28 columns]"
      ]
     },
     "execution_count": 14,
     "metadata": {},
     "output_type": "execute_result"
    }
   ],
   "source": [
    "# To apply the error correction, first create a list of systems.\n",
    "phot_system_list = [PhotometricSystem.Euclid_VIS, PhotometricSystem.Els_Custom_W09_S2]\n",
    "synthetic_phot_corrected = generate(df, photometric_system=phot_system_list, error_correction=True)\n",
    "synthetic_phot_corrected\n",
    "# A warning is raised for each of the systems that cannot be corrected. No changes are made to these systems."
   ]
  },
  {
   "cell_type": "markdown",
   "metadata": {},
   "source": [
    "#### Colour equation and error correction"
   ]
  },
  {
   "cell_type": "markdown",
   "metadata": {},
   "source": [
    "Both options colour_equation and error_correction can be True at the same time. The error correction needs the Gaia_DR3_Vega system to be present in the input data, so the system is internally added and then removed before returning the results."
   ]
  },
  {
   "cell_type": "code",
   "execution_count": 15,
   "metadata": {},
   "outputs": [
    {
     "name": "stdout",
     "output_type": "stream",
     "text": [
      "Processing data [50%]\r",
      "                              \r",
      "Processing data [100%]\r",
      "                              \r",
      "Processing data [50%]\r",
      "                              \r",
      "Processing data [100%]\r",
      "                              \r",
      "Processing data [50%]\r",
      "                              \r",
      "Processing data [100%]\r",
      "                              \r",
      "UserWarning: System ElsCustomW09S2 does not have a correction table. The program will not apply error correction over this system.\n"
     ]
    },
    {
     "data": {
      "text/html": [
       "<div>\n",
       "<style scoped>\n",
       "    .dataframe tbody tr th:only-of-type {\n",
       "        vertical-align: middle;\n",
       "    }\n",
       "\n",
       "    .dataframe tbody tr th {\n",
       "        vertical-align: top;\n",
       "    }\n",
       "\n",
       "    .dataframe thead th {\n",
       "        text-align: right;\n",
       "    }\n",
       "</style>\n",
       "<table border=\"1\" class=\"dataframe\">\n",
       "  <thead>\n",
       "    <tr style=\"text-align: right;\">\n",
       "      <th></th>\n",
       "      <th>source_id</th>\n",
       "      <th>EuclidVis_mag_VIS</th>\n",
       "      <th>EuclidVis_flux_VIS</th>\n",
       "      <th>EuclidVis_flux_error_VIS</th>\n",
       "      <th>ElsCustomW09S2_mag_Halpha</th>\n",
       "      <th>ElsCustomW09S2_mag_Hbeta</th>\n",
       "      <th>ElsCustomW09S2_mag_O3</th>\n",
       "      <th>ElsCustomW09S2_mag_CHalpha</th>\n",
       "      <th>ElsCustomW09S2_mag_CHbeta</th>\n",
       "      <th>ElsCustomW09S2_mag_CO3</th>\n",
       "      <th>...</th>\n",
       "      <th>ElsCustomW09S2_flux_r</th>\n",
       "      <th>ElsCustomW09S2_flux_i</th>\n",
       "      <th>ElsCustomW09S2_flux_error_Halpha</th>\n",
       "      <th>ElsCustomW09S2_flux_error_Hbeta</th>\n",
       "      <th>ElsCustomW09S2_flux_error_O3</th>\n",
       "      <th>ElsCustomW09S2_flux_error_CHalpha</th>\n",
       "      <th>ElsCustomW09S2_flux_error_CHbeta</th>\n",
       "      <th>ElsCustomW09S2_flux_error_CO3</th>\n",
       "      <th>ElsCustomW09S2_flux_error_r</th>\n",
       "      <th>ElsCustomW09S2_flux_error_i</th>\n",
       "    </tr>\n",
       "  </thead>\n",
       "  <tbody>\n",
       "    <tr>\n",
       "      <th>0</th>\n",
       "      <td>6</td>\n",
       "      <td>8.229913</td>\n",
       "      <td>8.775556e-15</td>\n",
       "      <td>1.483339e-17</td>\n",
       "      <td>9.322991</td>\n",
       "      <td>12.011327</td>\n",
       "      <td>11.772323</td>\n",
       "      <td>9.996499</td>\n",
       "      <td>12.418602</td>\n",
       "      <td>11.171822</td>\n",
       "      <td>...</td>\n",
       "      <td>2.011775e-15</td>\n",
       "      <td>1.121584e-14</td>\n",
       "      <td>1.406098e-17</td>\n",
       "      <td>3.498787e-18</td>\n",
       "      <td>3.658348e-18</td>\n",
       "      <td>1.145484e-17</td>\n",
       "      <td>4.089499e-18</td>\n",
       "      <td>3.986050e-18</td>\n",
       "      <td>2.963247e-18</td>\n",
       "      <td>7.769417e-18</td>\n",
       "    </tr>\n",
       "    <tr>\n",
       "      <th>1</th>\n",
       "      <td>4</td>\n",
       "      <td>13.318073</td>\n",
       "      <td>8.091163e-17</td>\n",
       "      <td>1.059743e-19</td>\n",
       "      <td>13.351317</td>\n",
       "      <td>13.148944</td>\n",
       "      <td>13.131454</td>\n",
       "      <td>13.267574</td>\n",
       "      <td>13.018520</td>\n",
       "      <td>13.134297</td>\n",
       "      <td>...</td>\n",
       "      <td>1.239131e-16</td>\n",
       "      <td>5.648860e-17</td>\n",
       "      <td>2.775161e-19</td>\n",
       "      <td>6.395538e-19</td>\n",
       "      <td>5.618435e-19</td>\n",
       "      <td>4.977891e-19</td>\n",
       "      <td>1.078377e-18</td>\n",
       "      <td>4.220456e-19</td>\n",
       "      <td>1.054331e-19</td>\n",
       "      <td>3.647871e-20</td>\n",
       "    </tr>\n",
       "  </tbody>\n",
       "</table>\n",
       "<p>2 rows × 28 columns</p>\n",
       "</div>"
      ],
      "text/plain": [
       "   source_id  EuclidVis_mag_VIS  EuclidVis_flux_VIS  EuclidVis_flux_error_VIS  \\\n",
       "0          6           8.229913        8.775556e-15              1.483339e-17   \n",
       "1          4          13.318073        8.091163e-17              1.059743e-19   \n",
       "\n",
       "   ElsCustomW09S2_mag_Halpha  ElsCustomW09S2_mag_Hbeta  ElsCustomW09S2_mag_O3  \\\n",
       "0                   9.322991                 12.011327              11.772323   \n",
       "1                  13.351317                 13.148944              13.131454   \n",
       "\n",
       "   ElsCustomW09S2_mag_CHalpha  ElsCustomW09S2_mag_CHbeta  \\\n",
       "0                    9.996499                  12.418602   \n",
       "1                   13.267574                  13.018520   \n",
       "\n",
       "   ElsCustomW09S2_mag_CO3  ...  ElsCustomW09S2_flux_r  ElsCustomW09S2_flux_i  \\\n",
       "0               11.171822  ...           2.011775e-15           1.121584e-14   \n",
       "1               13.134297  ...           1.239131e-16           5.648860e-17   \n",
       "\n",
       "   ElsCustomW09S2_flux_error_Halpha  ElsCustomW09S2_flux_error_Hbeta  \\\n",
       "0                      1.406098e-17                     3.498787e-18   \n",
       "1                      2.775161e-19                     6.395538e-19   \n",
       "\n",
       "   ElsCustomW09S2_flux_error_O3  ElsCustomW09S2_flux_error_CHalpha  \\\n",
       "0                  3.658348e-18                       1.145484e-17   \n",
       "1                  5.618435e-19                       4.977891e-19   \n",
       "\n",
       "   ElsCustomW09S2_flux_error_CHbeta  ElsCustomW09S2_flux_error_CO3  \\\n",
       "0                      4.089499e-18                   3.986050e-18   \n",
       "1                      1.078377e-18                   4.220456e-19   \n",
       "\n",
       "   ElsCustomW09S2_flux_error_r  ElsCustomW09S2_flux_error_i  \n",
       "0                 2.963247e-18                 7.769417e-18  \n",
       "1                 1.054331e-19                 3.647871e-20  \n",
       "\n",
       "[2 rows x 28 columns]"
      ]
     },
     "execution_count": 15,
     "metadata": {},
     "output_type": "execute_result"
    }
   ],
   "source": [
    "phot_system_list = [PhotometricSystem.Euclid_VIS, PhotometricSystem.Els_Custom_W09_S2]\n",
    "synthetic_phot_corrected = generate(df, photometric_system=phot_system_list, error_correction=True)\n",
    "synthetic_phot_corrected\n",
    "# A warning is raised for each of the systems that cannot be corrected. No changes are made to these systems."
   ]
  },
  {
   "cell_type": "markdown",
   "metadata": {},
   "source": [
    "#### Additional parameters"
   ]
  },
  {
   "cell_type": "markdown",
   "metadata": {},
   "source": [
    "Additional arguments can be passed to the generator.\n",
    "\n",
    "These are:\n",
    "1. output_path\n",
    "2. output_file\n",
    "3. output_format\n",
    "4. save_file"
   ]
  },
  {
   "cell_type": "markdown",
   "metadata": {},
   "source": [
    "Three parameters: **output_path**, **output_file**, and **output_format** define the entire path of the resulting file.\n",
    "\n",
    "The default output path is the current path. If the given output path does not exist, it will be created.\n",
    "\n",
    "The default output file name is 'output_spectra'. \n",
    "\n",
    "The default output format is the format of the input file (i.e. if the input file is a 'fits', then the output file will be a FITS file by default.), or CSV in any other case (DataFrame, ADQL query or list)."
   ]
  },
  {
   "cell_type": "markdown",
   "metadata": {},
   "source": [
    "**NOTE: If a file with the same path and name already exists, it will be AUTOMATICALLY OVERWRITTEN.**"
   ]
  },
  {
   "cell_type": "code",
   "execution_count": 16,
   "metadata": {},
   "outputs": [
    {
     "name": "stdout",
     "output_type": "stream",
     "text": [
      "Processing data [50%]\r",
      "                              \r",
      "Processing data [100%]\r",
      "                              \r"
     ]
    }
   ],
   "source": [
    "synthetic_photometry = generate(f, photometric_system=phot_system, output_path='/home/drm/Desktop', output_file='my_file', output_format='xml')"
   ]
  },
  {
   "cell_type": "markdown",
   "metadata": {},
   "source": [
    "The additional parameter **save_file** is a boolean that tells the program whether to save the results or not.\n",
    "If 'output_file' is given but 'save_file' is set to False, a warning will be raised."
   ]
  },
  {
   "cell_type": "code",
   "execution_count": 17,
   "metadata": {},
   "outputs": [
    {
     "name": "stdout",
     "output_type": "stream",
     "text": [
      "Processing data [50%]\r",
      "                              \r",
      "Processing data [100%]\r",
      "                              \r"
     ]
    },
    {
     "name": "stderr",
     "output_type": "stream",
     "text": [
      "/home/drm/GaiaXPy/gaiaxpy/core/generic_functions.py:46: UserWarning: Argument output_file was given, but save_file is set to False. Set save_file to True to store the output of the function.\n",
      "  warn('Argument output_file was given, but save_file is set to False. Set save_file to True to store the output of the function.')\n"
     ]
    }
   ],
   "source": [
    "synthetic_photometry = generate(f, photometric_system=phot_system, output_file='my_file', save_file=False)"
   ]
  }
 ],
 "metadata": {
  "kernelspec": {
   "display_name": "gaiaxpy",
   "language": "python",
   "name": "gaiaxpy"
  },
  "language_info": {
   "codemirror_mode": {
    "name": "ipython",
    "version": 3
   },
   "file_extension": ".py",
   "mimetype": "text/x-python",
   "name": "python",
   "nbconvert_exporter": "python",
   "pygments_lexer": "ipython3",
   "version": "3.8.10"
  }
 },
 "nbformat": 4,
 "nbformat_minor": 4
}
