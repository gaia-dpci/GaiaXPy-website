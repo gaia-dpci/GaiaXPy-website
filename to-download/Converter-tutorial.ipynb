{
 "cells": [
  {
   "cell_type": "markdown",
   "metadata": {},
   "source": [
    "# How to use the converter utility"
   ]
  },
  {
   "cell_type": "markdown",
   "metadata": {},
   "source": [
    "This tool converts the input internally calibrated mean spectra from the continuous representation to a sampled form."
   ]
  },
  {
   "cell_type": "markdown",
   "metadata": {},
   "source": [
    "## Basic usage"
   ]
  },
  {
   "cell_type": "code",
   "execution_count": null,
   "metadata": {},
   "outputs": [],
   "source": [
    "# Import the tool\n",
    "from gaiaxpy import convert\n",
    "# Path to file with XP CONTINUOUS RAW data (csv, ecsv, fits, or xml)\n",
    "f = '/path/to/XP_CONTINUOUS_RAW.fits'"
   ]
  },
  {
   "cell_type": "markdown",
   "metadata": {},
   "source": [
    "#### The converter returns two different outputs: \n",
    "\n",
    " 1. The values for all sampled spectra as a pandas DataFrame.\n",
    " 2. The sampling used to convert the input spectra in pseudo-wavelength. This sampling should be an iterable (e.g. a NumPy array), the minimum accepted value is -10 and the maximum is 70. The default sampling is numpy.linspace(0, 60, 600)."
   ]
  },
  {
   "cell_type": "code",
   "execution_count": null,
   "metadata": {},
   "outputs": [],
   "source": [
    "converted_spectra, sampling = convert(f)\n",
    "converted_spectra"
   ]
  },
  {
   "cell_type": "markdown",
   "metadata": {},
   "source": [
    "### Input types"
   ]
  },
  {
   "cell_type": "markdown",
   "metadata": {},
   "source": [
    "The input does not have to be a path to a file. There are other options: a pandas DataFrame, an ADQL query or a list of sourceIds."
   ]
  },
  {
   "cell_type": "markdown",
   "metadata": {},
   "source": [
    "#### Passing a DataFrame"
   ]
  },
  {
   "cell_type": "code",
   "execution_count": null,
   "metadata": {},
   "outputs": [],
   "source": [
    "import pandas as pd\n",
    "\n",
    "f = '/path/to/XP_CONTINUOUS_RAW.csv'\n",
    "df = pd.read_csv(f) # The values in the DataFrame can be edited if the user wishes to do so.\n",
    "\n",
    "converted_spectra, sampling = convert(df)\n",
    "converted_spectra"
   ]
  },
  {
   "cell_type": "markdown",
   "metadata": {},
   "source": [
    "#### Running a query"
   ]
  },
  {
   "cell_type": "markdown",
   "metadata": {},
   "source": [
    "**Important note**: Currently the data in the Gaia Archive is not public. The following code will <span style=\"color:red\">not</span> work until DR3."
   ]
  },
  {
   "cell_type": "code",
   "execution_count": null,
   "metadata": {},
   "outputs": [],
   "source": [
    "query_input = \"select TOP 2 source_id from gaiadr3.gaia_source where has_xp_continuous = 'True'\"\n",
    "converted_spectra, sampling = convert(query_input)\n",
    "converted_spectra"
   ]
  },
  {
   "cell_type": "markdown",
   "metadata": {},
   "source": [
    "#### Passing a list\n",
    "\n",
    "A list of sourceIds can be passed to the converter as the first argument. The converter will then query the Archive for these objects."
   ]
  },
  {
   "cell_type": "code",
   "execution_count": null,
   "metadata": {},
   "outputs": [],
   "source": [
    "sources_list = ['48', 44] # The sourceIds can be string or long.\n",
    "converted_spectra, sampling = convert(sources_list)\n",
    "converted_spectra"
   ]
  },
  {
   "cell_type": "markdown",
   "metadata": {},
   "source": [
    "## Advanced usage"
   ]
  },
  {
   "cell_type": "markdown",
   "metadata": {},
   "source": [
    "Additional arguments can be passed to the converter.\n",
    "\n",
    "These are:\n",
    "1. sampling\n",
    "2. truncation\n",
    "3. output_path\n",
    "3. output_file\n",
    "4. output_format\n",
    "5. save_file"
   ]
  },
  {
   "cell_type": "markdown",
   "metadata": {},
   "source": [
    "### Sampling"
   ]
  },
  {
   "cell_type": "markdown",
   "metadata": {},
   "source": [
    "A custom sampling can be passed to the function. This sampling should be an iterable (list, tuple, generator, or preferably a NumPy array). If no sampling is given, the default sampling is returned.\n",
    "\n",
    "The default sampling of the converter corresponds to numpy.linspace(0., 60., 600.) in pseudo-wavelength.\n",
    "\n",
    "The minimum value allowed in the sampling is -10, and the maximum is 70. The program will raise an error is the sampling does not comply."
   ]
  },
  {
   "cell_type": "code",
   "execution_count": null,
   "metadata": {},
   "outputs": [],
   "source": [
    "import numpy as np\n",
    "\n",
    "converted_spectra_default, default_sampling = convert(df.iloc[[0]])\n",
    "converted_spectra, custom_sampling = convert(f, sampling=np.arange(-10, 70, 0.5))\n",
    "converted_spectra"
   ]
  },
  {
   "cell_type": "markdown",
   "metadata": {},
   "source": [
    "The results can be plotted using the plotter utility."
   ]
  },
  {
   "cell_type": "code",
   "execution_count": null,
   "metadata": {},
   "outputs": [],
   "source": [
    "from gaiaxpy import plot_spectra\n",
    "# multi allows the spectra to appear in the same canvas\n",
    "plot_spectra(converted_spectra, sampling=custom_sampling, multi=True)"
   ]
  },
  {
   "cell_type": "markdown",
   "metadata": {},
   "source": [
    "The figure can be saved too."
   ]
  },
  {
   "cell_type": "code",
   "execution_count": null,
   "metadata": {},
   "outputs": [],
   "source": [
    "plot_spectra(converted_spectra, sampling=custom_sampling, multi=True, output_path='/path/to', show_plot=False)"
   ]
  },
  {
   "cell_type": "markdown",
   "metadata": {},
   "source": [
    "### Truncation"
   ]
  },
  {
   "cell_type": "markdown",
   "metadata": {},
   "source": [
    "The source mean BP/RP spectrum is described as a combination of basis functions. Particularly for faint sources or sources with a low number of observations, it is useful to represent the spectrum using a smaller set of basis functions to avoid higher-order bases fitting the noise in the observed data.\n",
    "\n",
    "The truncation parameter is a boolean which toggles the truncation of the set of bases."
   ]
  },
  {
   "cell_type": "code",
   "execution_count": null,
   "metadata": {},
   "outputs": [],
   "source": [
    "first_source = df.drop([0]) # We'll use only the first source (sourceId 4) in the demonstration\n",
    "non_truncated_spectra, sampling = convert(first_source) # truncation is False by default\n",
    "truncated_spectra, _ = convert(first_source, truncation=True)"
   ]
  },
  {
   "cell_type": "markdown",
   "metadata": {},
   "source": [
    "We can use GaiaXPy's plot spectra utility to see the differences in the results."
   ]
  },
  {
   "cell_type": "code",
   "execution_count": null,
   "metadata": {},
   "outputs": [],
   "source": [
    "from gaiaxpy import plot_spectra\n",
    "# Construct a DataFrame so we can plot both sources using just one function call\n",
    "data = pd.concat([non_truncated_spectra, truncated_spectra]).reset_index(drop=True)\n",
    "# As both spectra we want to plot have the same sourceId, we'll rename them to get descriptive labels\n",
    "data['source_id'][0:2] = 'Non truncated'\n",
    "data['source_id'][2:4] = 'Truncated'\n",
    "plot_spectra(data, sampling=sampling, multi=True)"
   ]
  },
  {
   "cell_type": "markdown",
   "metadata": {},
   "source": [
    "The differences between the truncated and not truncated versions are too small to be seen in the previous plot. But we can compare the values."
   ]
  },
  {
   "cell_type": "code",
   "execution_count": null,
   "metadata": {},
   "outputs": [],
   "source": [
    "# We'll get the flux values of the BP band of the first spectrum in the data\n",
    "non_truncated_bp_flux = data[(data['source_id'] == 'Non truncated') & (data['xp'] == 'BP')]['flux'].iloc[0]\n",
    "truncated_bp_flux = data[(data['source_id'] == 'Truncated') & (data['xp'] == 'BP')]['flux'].iloc[0]\n",
    "# We can then compute the absolute differences\n",
    "abs_differences = np.abs(non_truncated_bp_flux - truncated_bp_flux)\n",
    "# And find the values and indices of those differences\n",
    "min_diff = np.min(abs_differences)\n",
    "max_diff = np.max(abs_differences)\n",
    "print(f'The length of the sampling is {len(non_truncated_bp_flux)}.')\n",
    "print(f'Minimum difference: {min_diff}. Index of minimum difference: {np.where(abs_differences == min_diff)[0][0]}.')\n",
    "print(f'Maximum difference: {max_diff}. Index of maximum difference: {np.where(abs_differences == max_diff)[0][0]}.')"
   ]
  },
  {
   "cell_type": "markdown",
   "metadata": {},
   "source": [
    "### Output_path, output_file, output_format, save_file"
   ]
  },
  {
   "cell_type": "markdown",
   "metadata": {},
   "source": [
    "Three parameters: **output_path**, **output_file**, and **output_format** define the entire path of the resulting file.\n",
    "\n",
    "The default output path is the current path. If the given output path does not exist, it will be created.\n",
    "\n",
    "The default output file name is 'output_spectra'. \n",
    "\n",
    "The default output format is the format of the input file (i.e. if the input file is a 'fits', then the output file will be a FITS file by default.), or CSV in any other case (DataFrame, ADQL query or list)."
   ]
  },
  {
   "cell_type": "markdown",
   "metadata": {},
   "source": [
    "**NOTE: If a file with the same path and name already exists, it will be AUTOMATICALLY OVERWRITTEN.**"
   ]
  },
  {
   "cell_type": "code",
   "execution_count": null,
   "metadata": {},
   "outputs": [],
   "source": [
    "converted_spectra, _ = convert(f, output_path='/path/to', output_file='my_file', output_format='ecsv')"
   ]
  },
  {
   "cell_type": "markdown",
   "metadata": {},
   "source": [
    "The additional parameter **save_file** is a boolean that tells the program whether to save the results or not.\n",
    "If 'output_file' is given but 'save_file' is set to False, a warning will be raised."
   ]
  },
  {
   "cell_type": "code",
   "execution_count": null,
   "metadata": {},
   "outputs": [],
   "source": [
    "converted_spectra, _ = convert(f, output_file='my_file', output_format='.csv', save_file=False)"
   ]
  }
 ],
 "metadata": {
  "kernelspec": {
   "display_name": "gaiaxpy",
   "language": "python",
   "name": "gaiaxpy"
  },
  "language_info": {
   "codemirror_mode": {
    "name": "ipython",
    "version": 3
   },
   "file_extension": ".py",
   "mimetype": "text/x-python",
   "name": "python",
   "nbconvert_exporter": "python",
   "pygments_lexer": "ipython3",
   "version": "3.8.10"
  }
 },
 "nbformat": 4,
 "nbformat_minor": 4
}
