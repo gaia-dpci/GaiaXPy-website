{
 "cells": [
  {
   "cell_type": "markdown",
   "metadata": {},
   "source": [
    "# How to use the generator utility"
   ]
  },
  {
   "cell_type": "markdown",
   "metadata": {},
   "source": [
    "This tool allows to generate synthetic photometry in a set of available systems from the input internally-calibrated continuously-represented mean spectra."
   ]
  },
  {
   "cell_type": "code",
   "execution_count": null,
   "metadata": {},
   "outputs": [],
   "source": [
    "# Import the tool and the PhotometricSystem class\n",
    "from gaiaxpy import generate, PhotometricSystem"
   ]
  },
  {
   "cell_type": "markdown",
   "metadata": {},
   "source": [
    "We can see which systems are available."
   ]
  },
  {
   "cell_type": "code",
   "execution_count": null,
   "metadata": {},
   "outputs": [],
   "source": [
    "PhotometricSystem.get_available_systems()"
   ]
  },
  {
   "cell_type": "markdown",
   "metadata": {},
   "source": [
    "!!! **HERE I would add an explanation of regular vs standardised systems.**"
   ]
  },
  {
   "cell_type": "markdown",
   "metadata": {},
   "source": [
    "## Basic usage"
   ]
  },
  {
   "cell_type": "markdown",
   "metadata": {},
   "source": [
    "#### The generator returns a single output: \n",
    "\n",
    " 1. A DataFrame of all synthetic photometry results. The DataFrame contains the magnitudes, fluxes and flux errors for each band in the system."
   ]
  },
  {
   "cell_type": "code",
   "execution_count": null,
   "metadata": {},
   "outputs": [],
   "source": [
    "# Path to file with XP CONTINUOUS RAW data (csv, ecsv, fits, or xml)\n",
    "f = '/path/to/XP_CONTINUOUS_RAW.xml'\n",
    "# Select a photometric system\n",
    "phot_system = PhotometricSystem.Gaia_DR3_Vega\n",
    "synthetic_photometry = generate(f, photometric_system=phot_system)\n",
    "synthetic_photometry"
   ]
  },
  {
   "cell_type": "markdown",
   "metadata": {},
   "source": [
    "#### A list of PhotometricSystem objects is also allowed."
   ]
  },
  {
   "cell_type": "code",
   "execution_count": null,
   "metadata": {},
   "outputs": [],
   "source": [
    "# Create a list of photometric systems\n",
    "phot_system_list = [PhotometricSystem.Gaia_DR3_Vega, PhotometricSystem.JKC, PhotometricSystem.Pristine]\n",
    "synthetic_photometry = generate(f, photometric_system=phot_system_list)\n",
    "synthetic_photometry"
   ]
  },
  {
   "cell_type": "markdown",
   "metadata": {},
   "source": [
    "### Input types"
   ]
  },
  {
   "cell_type": "markdown",
   "metadata": {},
   "source": [
    "The input does not have to be a path to a file. There are other options: a pandas DataFrame, an ADQL query or a list of sourceIds."
   ]
  },
  {
   "cell_type": "markdown",
   "metadata": {},
   "source": [
    "#### Passing a DataFrame"
   ]
  },
  {
   "cell_type": "code",
   "execution_count": null,
   "metadata": {},
   "outputs": [],
   "source": [
    "import pandas as pd\n",
    "\n",
    "f = '/path/to/XP_CONTINUOUS_RAW.csv'\n",
    "df = pd.read_csv(f) # The values in the DataFrame can be edited if the user wishes to do so.\n",
    "\n",
    "synthetic_photometry = generate(df, photometric_system=PhotometricSystem.Els_Custom_W09_S2)\n",
    "synthetic_photometry"
   ]
  },
  {
   "cell_type": "markdown",
   "metadata": {},
   "source": [
    "#### Running a query"
   ]
  },
  {
   "cell_type": "markdown",
   "metadata": {},
   "source": [
    "**Important note**: Currently the data in the Gaia Archive is not public. The following code will <span style=\"color:red\">not</span> work until DR3."
   ]
  },
  {
   "cell_type": "code",
   "execution_count": null,
   "metadata": {},
   "outputs": [],
   "source": [
    "query_input = \"select TOP 2 source_id from gaiadr3.gaia_source where has_xp_continuous = 'True'\"\n",
    "phot_system_list = [PhotometricSystem.Stromgren, PhotometricSystem.Stromgren_Std]\n",
    "synthetic_photometry = generate(query_input, photometric_system=phot_system_list)\n",
    "synthetic_photometry"
   ]
  },
  {
   "cell_type": "markdown",
   "metadata": {},
   "source": [
    "#### Passing a list\n",
    "\n",
    "A list of sourceIds can be passed to the generator as the first argument. The generator will then query the Archive for these objects."
   ]
  },
  {
   "cell_type": "code",
   "execution_count": null,
   "metadata": {},
   "outputs": [],
   "source": [
    "sources_list = ['48', 44] # The sourceIds can be string or long.\n",
    "synthetic_photometry = generate(sources_list, photometric_system=PhotometricSystem.JKC_Std)\n",
    "synthetic_photometry"
   ]
  },
  {
   "cell_type": "markdown",
   "metadata": {},
   "source": [
    "## Advanced usage"
   ]
  },
  {
   "cell_type": "markdown",
   "metadata": {},
   "source": [
    "The generator contains shortcuts for two other tools:\n",
    "\n",
    "1. Application of the colour equation\n",
    "2. Error correction"
   ]
  },
  {
   "cell_type": "markdown",
   "metadata": {},
   "source": [
    "#### Colour equation\n",
    "\n",
    "!!! **HERE: Missing description**"
   ]
  },
  {
   "cell_type": "code",
   "execution_count": null,
   "metadata": {},
   "outputs": [],
   "source": [
    "# To apply the colour equation, first create a list of systems.\n",
    "phot_system_list = [PhotometricSystem.SDSS_Std, PhotometricSystem.JKC_Std, PhotometricSystem.Pristine]\n",
    "synthetic_phot_colour = generate(df, photometric_system=phot_system_list, colour_equation=True)\n",
    "synthetic_phot_colour"
   ]
  },
  {
   "cell_type": "markdown",
   "metadata": {},
   "source": [
    "We can verify that, for the SDSS_Std system only the u band was affected by the colour equation. (The same can be done for JKC_Std and the U band.)"
   ]
  },
  {
   "cell_type": "code",
   "execution_count": null,
   "metadata": {},
   "outputs": [],
   "source": [
    "# To compare, we compute the photometry for the same systems without applyting the colour equation.\n",
    "synthetic_phot_regular = generate(df, photometric_system=phot_system_list) # False is the default value"
   ]
  },
  {
   "cell_type": "code",
   "execution_count": null,
   "metadata": {},
   "outputs": [],
   "source": [
    "# Get the bands of both systems\n",
    "SDSS_Std_bands = PhotometricSystem.SDSS_Std.get_bands()\n",
    "JKC_Std_bands = PhotometricSystem.JKC_Std.get_bands()"
   ]
  },
  {
   "cell_type": "code",
   "execution_count": null,
   "metadata": {},
   "outputs": [],
   "source": [
    "# Now we can get the columns that correspond to Sdss_Std system for both DataFrames\n",
    "SDSS_columns = [column for column in synthetic_phot_colour.columns if column.startswith('Sdss')]\n",
    "SDSS_Std_colour = synthetic_phot_colour[SDSS_columns]\n",
    "SDSS_Std_regular = synthetic_phot_regular[SDSS_columns]"
   ]
  },
  {
   "cell_type": "markdown",
   "metadata": {},
   "source": [
    "By running the following command we can see the differences between both DataFrames:"
   ]
  },
  {
   "cell_type": "code",
   "execution_count": null,
   "metadata": {},
   "outputs": [],
   "source": [
    "import pandas.testing as pdt\n",
    "try:\n",
    "    pdt.assert_frame_equal(SDSS_Std_colour, SDSS_Std_regular)\n",
    "except AssertionError as err:\n",
    "    print(err)"
   ]
  },
  {
   "cell_type": "markdown",
   "metadata": {},
   "source": [
    "If the colour equation is applied over a system for which this correction is not available, no changes will be made to this system."
   ]
  },
  {
   "cell_type": "code",
   "execution_count": null,
   "metadata": {},
   "outputs": [],
   "source": [
    "# The first system will change, the second will not.\n",
    "phot_system_list = [PhotometricSystem.SDSS_Std, PhotometricSystem.IPHAS]\n",
    "synthetic_phot_regular = generate(df, photometric_system=phot_system_list)\n",
    "synthetic_phot_colour = generate(df, photometric_system=phot_system_list, colour_equation=True)\n",
    "# The outputs are different\n",
    "print(f'Are the outputs equal? {synthetic_phot_colour.equals(synthetic_phot_regular)}')\n",
    "sdss_columns = [column for column in synthetic_phot_colour.columns if column.startswith('Sdss')]\n",
    "print(f'Are the SDSS columns equal? {synthetic_phot_colour[sdss_columns].equals(synthetic_phot_regular[sdss_columns])}')\n",
    "iphas_columns = [column for column in synthetic_phot_colour.columns if column.startswith('Iphas')]\n",
    "print(f'Are the IPHAS columns equal? {synthetic_phot_colour[iphas_columns].equals(synthetic_phot_regular[iphas_columns])}')"
   ]
  },
  {
   "cell_type": "markdown",
   "metadata": {},
   "source": [
    "#### Error correction\n",
    "\n",
    "!!! **HERE: Missing description**"
   ]
  },
  {
   "cell_type": "code",
   "execution_count": null,
   "metadata": {},
   "outputs": [],
   "source": [
    "# To apply the error correction, first create a list of systems.\n",
    "phot_system_list = [PhotometricSystem.Euclid_VIS, PhotometricSystem.Els_Custom_W09_S2]\n",
    "synthetic_phot_corrected = generate(df, photometric_system=phot_system_list, error_correction=True)\n",
    "synthetic_phot_corrected\n",
    "# A warning is raised for each of the systems that cannot be corrected. No changes are made to these systems."
   ]
  },
  {
   "cell_type": "markdown",
   "metadata": {},
   "source": [
    "#### Colour equation and error correction"
   ]
  },
  {
   "cell_type": "markdown",
   "metadata": {},
   "source": [
    "Both options colour_equation and error_correction can be True at the same time. The error correction needs the Gaia_DR3_Vega system to be present in the input data, so the system is internally added and then removed before returning the results."
   ]
  },
  {
   "cell_type": "code",
   "execution_count": null,
   "metadata": {},
   "outputs": [],
   "source": [
    "phot_system_list = [PhotometricSystem.Euclid_VIS, PhotometricSystem.Els_Custom_W09_S2]\n",
    "synthetic_phot_corrected = generate(df, photometric_system=phot_system_list, error_correction=True)\n",
    "synthetic_phot_corrected\n",
    "# A warning is raised for each of the systems that cannot be corrected. No changes are made to these systems."
   ]
  },
  {
   "cell_type": "markdown",
   "metadata": {},
   "source": [
    "#### Additional parameters"
   ]
  },
  {
   "cell_type": "markdown",
   "metadata": {},
   "source": [
    "Additional arguments can be passed to the generator.\n",
    "\n",
    "These are:\n",
    "1. output_path\n",
    "2. output_file\n",
    "3. output_format\n",
    "4. save_file"
   ]
  },
  {
   "cell_type": "markdown",
   "metadata": {},
   "source": [
    "Three parameters: **output_path**, **output_file**, and **output_format** define the entire path of the resulting file.\n",
    "\n",
    "The default output path is the current path. If the given output path does not exist, it will be created.\n",
    "\n",
    "The default output file name is 'output_spectra'. \n",
    "\n",
    "The default output format is the format of the input file (i.e. if the input file is a 'fits', then the output file will be a FITS file by default.), or CSV in any other case (DataFrame, ADQL query or list)."
   ]
  },
  {
   "cell_type": "markdown",
   "metadata": {},
   "source": [
    "**NOTE: If a file with the same path and name already exists, it will be AUTOMATICALLY OVERWRITTEN.**"
   ]
  },
  {
   "cell_type": "code",
   "execution_count": null,
   "metadata": {},
   "outputs": [],
   "source": [
    "synthetic_photometry = generate(f, photometric_system=phot_system, output_path='/path/to', output_file='my_file', output_format='xml')"
   ]
  },
  {
   "cell_type": "markdown",
   "metadata": {},
   "source": [
    "The additional parameter **save_file** is a boolean that tells the program whether to save the results or not.\n",
    "If 'output_file' is given but 'save_file' is set to False, a warning will be raised."
   ]
  },
  {
   "cell_type": "code",
   "execution_count": null,
   "metadata": {},
   "outputs": [],
   "source": [
    "synthetic_photometry = generate(f, photometric_system=phot_system, output_file='my_file', save_file=False)"
   ]
  }
 ],
 "metadata": {
  "kernelspec": {
   "display_name": "gaiaxpy",
   "language": "python",
   "name": "gaiaxpy"
  },
  "language_info": {
   "codemirror_mode": {
    "name": "ipython",
    "version": 3
   },
   "file_extension": ".py",
   "mimetype": "text/x-python",
   "name": "python",
   "nbconvert_exporter": "python",
   "pygments_lexer": "ipython3",
   "version": "3.8.10"
  }
 },
 "nbformat": 4,
 "nbformat_minor": 4
}
