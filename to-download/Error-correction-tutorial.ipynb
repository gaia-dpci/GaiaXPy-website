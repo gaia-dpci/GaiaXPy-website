{
 "cells": [
  {
   "cell_type": "markdown",
   "metadata": {},
   "source": [
    "# How to use the error correction utility"
   ]
  },
  {
   "cell_type": "markdown",
   "metadata": {},
   "source": [
    "!!! **HERE: Missing description**"
   ]
  },
  {
   "cell_type": "markdown",
   "metadata": {},
   "source": [
    "## Basic usage"
   ]
  },
  {
   "cell_type": "code",
   "execution_count": null,
   "metadata": {},
   "outputs": [],
   "source": [
    "# Import the tool\n",
    "from gaiaxpy import apply_error_correction"
   ]
  },
  {
   "cell_type": "markdown",
   "metadata": {},
   "source": [
    "The error correction can be applied over a synthetic photometry DataFrame which can be generated using the generator tool."
   ]
  },
  {
   "cell_type": "code",
   "execution_count": null,
   "metadata": {},
   "outputs": [],
   "source": [
    "# Import generator\n",
    "from gaiaxpy import generate"
   ]
  },
  {
   "cell_type": "markdown",
   "metadata": {},
   "source": [
    "A photometric system is required to generate synthetic photometry."
   ]
  },
  {
   "cell_type": "code",
   "execution_count": null,
   "metadata": {},
   "outputs": [],
   "source": [
    "# Import photometric systems\n",
    "from gaiaxpy import PhotometricSystem"
   ]
  },
  {
   "cell_type": "markdown",
   "metadata": {},
   "source": [
    "We can see which systems are available."
   ]
  },
  {
   "cell_type": "code",
   "execution_count": null,
   "metadata": {},
   "outputs": [],
   "source": [
    "PhotometricSystem.get_available_systems()"
   ]
  },
  {
   "cell_type": "code",
   "execution_count": null,
   "metadata": {},
   "outputs": [],
   "source": [
    "# We can select a simple system\n",
    "phot_system = PhotometricSystem.Gaia_DR3_Vega\n",
    "# Or use a list of them\n",
    "phot_systems_list = [PhotometricSystem.Pristine, PhotometricSystem.JWST_NIRCAM, PhotometricSystem.Euclid_VIS]"
   ]
  },
  {
   "cell_type": "markdown",
   "metadata": {},
   "source": [
    "To generate synthetic photometry:"
   ]
  },
  {
   "cell_type": "code",
   "execution_count": null,
   "metadata": {},
   "outputs": [],
   "source": [
    "# File with input data\n",
    "f = '/path/to/XP_CONTINUOUS_RAW.ecsv'\n",
    "synthetic_photometry = generate(f, photometric_system=phot_systems_list)\n",
    "synthetic_photometry"
   ]
  },
  {
   "cell_type": "markdown",
   "metadata": {},
   "source": [
    "We can now the correction over this data:"
   ]
  },
  {
   "cell_type": "markdown",
   "metadata": {},
   "source": [
    "If the system Gaia_DR3_Vega is not present in the input photometry, an error will be raised. We need to pass a list that contains this system and recompute the photometry."
   ]
  },
  {
   "cell_type": "code",
   "execution_count": null,
   "metadata": {},
   "outputs": [],
   "source": [
    "# Add the system\n",
    "phot_systems_list = [PhotometricSystem.Pristine, PhotometricSystem.JWST_NIRCAM, PhotometricSystem.Euclid_VIS, PhotometricSystem.Gaia_DR3_Vega]\n",
    "# Recompute\n",
    "synthetic_photometry = generate(f, photometric_system=phot_systems_list)\n",
    "# Now we can apply the error correction\n",
    "synth_phot_corrected = apply_error_correction(synthetic_photometry, photometric_system=phot_systems_list)\n",
    "# Not every system has a correction table. A warning will be raised for every system for which a correction table does not exist."
   ]
  },
  {
   "cell_type": "markdown",
   "metadata": {},
   "source": [
    "If the photometric systems are not passed as an argument, the program will infer them from the data:"
   ]
  },
  {
   "cell_type": "code",
   "execution_count": null,
   "metadata": {},
   "outputs": [],
   "source": [
    "synth_phot_corrected_infer = apply_error_correction(synthetic_photometry)"
   ]
  },
  {
   "cell_type": "markdown",
   "metadata": {},
   "source": [
    "We can verify that both outputs are equivalent:"
   ]
  },
  {
   "cell_type": "code",
   "execution_count": null,
   "metadata": {},
   "outputs": [],
   "source": [
    "print(f'Are both frames equal? {synth_phot_corrected.equals(synth_phot_corrected_infer)}')"
   ]
  },
  {
   "cell_type": "markdown",
   "metadata": {},
   "source": [
    "## Advanced usage"
   ]
  },
  {
   "cell_type": "markdown",
   "metadata": {},
   "source": [
    "Additional arguments can be passed to the function.\n",
    "\n",
    "These are:\n",
    "1. output_path\n",
    "2. output_file\n",
    "3. output_format\n",
    "4. save_file"
   ]
  },
  {
   "cell_type": "markdown",
   "metadata": {},
   "source": [
    "Three parameters: **output_path**, **output_file**, and **output_format** define the entire path of the resulting file.\n",
    "\n",
    "The default output path is the current path. If the given output path does not exist, it will be created.\n",
    "\n",
    "The default output file name is 'output_spectra'. \n",
    "\n",
    "The default output format is the format of the input file (i.e. if the input file is a 'fits', then the output file will be a FITS file by default.), or CSV in any other case (DataFrame, ADQL query or list)."
   ]
  },
  {
   "cell_type": "markdown",
   "metadata": {},
   "source": [
    "**NOTE: If a file with the same path and name already exists, it will be AUTOMATICALLY OVERWRITTEN.**"
   ]
  },
  {
   "cell_type": "code",
   "execution_count": null,
   "metadata": {},
   "outputs": [],
   "source": [
    "synth_phot_corrected = apply_error_correction(synthetic_photometry, output_path='/path/to', output_file='my_file', output_format='csv')"
   ]
  },
  {
   "cell_type": "markdown",
   "metadata": {},
   "source": [
    "The additional parameter **save_file** is a boolean that tells the program whether to save the results or not.\n",
    "If 'output_file' is given but 'save_file' is set to False, a warning will be raised."
   ]
  },
  {
   "cell_type": "code",
   "execution_count": null,
   "metadata": {},
   "outputs": [],
   "source": [
    "synth_phot_corrected = apply_error_correction(synthetic_photometry, output_file='my_file', save_file=False)"
   ]
  }
 ],
 "metadata": {
  "kernelspec": {
   "display_name": "gaiaxpy",
   "language": "python",
   "name": "gaiaxpy"
  },
  "language_info": {
   "codemirror_mode": {
    "name": "ipython",
    "version": 3
   },
   "file_extension": ".py",
   "mimetype": "text/x-python",
   "name": "python",
   "nbconvert_exporter": "python",
   "pygments_lexer": "ipython3",
   "version": "3.8.10"
  }
 },
 "nbformat": 4,
 "nbformat_minor": 4
}
