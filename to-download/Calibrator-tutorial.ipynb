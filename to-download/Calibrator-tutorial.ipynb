{
 "cells": [
  {
   "cell_type": "markdown",
   "metadata": {},
   "source": [
    "# How to use the calibration utility"
   ]
  },
  {
   "cell_type": "markdown",
   "metadata": {},
   "source": [
    "This tool calibrates the input internally-calibrated continuously-represented mean spectra to the absolute system."
   ]
  },
  {
   "cell_type": "markdown",
   "metadata": {},
   "source": [
    "## Basic usage"
   ]
  },
  {
   "cell_type": "code",
   "execution_count": null,
   "metadata": {},
   "outputs": [],
   "source": [
    "# Import the tool\n",
    "from gaiaxpy import calibrate\n",
    "# Path to file with XP CONTINUOUS RAW data (csv, ecsv, fits, or xml)\n",
    "f = '/path/to/XP_CONTINUOUS_RAW.xml'"
   ]
  },
  {
   "cell_type": "markdown",
   "metadata": {},
   "source": [
    "#### The calibrator returns two different outputs: \n",
    "\n",
    " 1. The calibrated spectra which is a pandas DataFrame.\n",
    " 2. The sampling passed to the function which is a NumPy array. If no sampling is given, the default sampling  is returned. The default sampling is generated internally and it corresponds to numpy.arange(336., 1201., 2.) in absolute wavelengths [nm]."
   ]
  },
  {
   "cell_type": "code",
   "execution_count": null,
   "metadata": {},
   "outputs": [],
   "source": [
    "calibrated_spectra, sampling = calibrate(f)\n",
    "calibrated_spectra"
   ]
  },
  {
   "cell_type": "markdown",
   "metadata": {},
   "source": [
    "### Input types"
   ]
  },
  {
   "cell_type": "markdown",
   "metadata": {},
   "source": [
    "The input does not have to be a path to a file. There are other options: a pandas DataFrame, an ADQL query or a list of sourceIds."
   ]
  },
  {
   "cell_type": "markdown",
   "metadata": {},
   "source": [
    "#### Passing a DataFrame"
   ]
  },
  {
   "cell_type": "code",
   "execution_count": null,
   "metadata": {},
   "outputs": [],
   "source": [
    "import pandas as pd\n",
    "\n",
    "f = '/path/to/XP_CONTINUOUS_RAW.csv'\n",
    "df = pd.read_csv(f) # The values in the DataFrame can be edited if the user wishes to do so.\n",
    "\n",
    "calibrated_spectra, sampling = calibrate(df)\n",
    "calibrated_spectra"
   ]
  },
  {
   "cell_type": "markdown",
   "metadata": {},
   "source": [
    "#### Running a query"
   ]
  },
  {
   "cell_type": "markdown",
   "metadata": {},
   "source": [
    "**Important note**: Currently the data in the Gaia Archive is not public. The following code will <span style=\"color:red\">not</span> work until DR3."
   ]
  },
  {
   "cell_type": "code",
   "execution_count": null,
   "metadata": {},
   "outputs": [],
   "source": [
    "query_input = \"select TOP 2 source_id from gaiadr3.gaia_source where has_xp_continuous = 'True'\"\n",
    "calibrated_spectra, sampling = calibrate(query_input)\n",
    "calibrated_spectra"
   ]
  },
  {
   "cell_type": "markdown",
   "metadata": {},
   "source": [
    "#### Passing a list\n",
    "\n",
    "A list of sourceIds can be passed to the calibrator as the first argument. The calibrator then will query the Archive for these objects."
   ]
  },
  {
   "cell_type": "code",
   "execution_count": null,
   "metadata": {},
   "outputs": [],
   "source": [
    "sources_list = ['48', 44] # The sourceIds can be string or long.\n",
    "calibrated_spectra, sampling = calibrate(sources_list)\n",
    "calibrated_spectra"
   ]
  },
  {
   "cell_type": "markdown",
   "metadata": {},
   "source": [
    "## Advanced usage"
   ]
  },
  {
   "cell_type": "markdown",
   "metadata": {},
   "source": [
    "Additional arguments can be passed to the calibrator.\n",
    "\n",
    "These are:\n",
    "1. sampling\n",
    "2. truncation\n",
    "3. output_path\n",
    "3. output_file\n",
    "4. output_format\n",
    "5. save_file"
   ]
  },
  {
   "cell_type": "markdown",
   "metadata": {},
   "source": [
    "### Sampling"
   ]
  },
  {
   "cell_type": "markdown",
   "metadata": {},
   "source": [
    "A sampling can be passed to the function. This sampling should be an iterable (list, tuple, generator, or preferably a NumPy array). If no sampling is given, the default sampling is returned.\n",
    "\n",
    "The default sampling of the calibrator corresponds to numpy.arange(336., 1201., 2.) in absolute wavelengths [nm], and it is generated internally when no sampling is explicitly passed to the function.\n",
    "\n",
    "The minimum value allowed in the sampling is 330, and the maximum is 1050. The program will raise an error is the sampling does not comply."
   ]
  },
  {
   "cell_type": "markdown",
   "metadata": {},
   "source": [
    "For example, the sampling numpy.geomspace(330,1049.9999999999, 361) is suggested to improve the resolution at the blue end."
   ]
  },
  {
   "cell_type": "code",
   "execution_count": null,
   "metadata": {},
   "outputs": [],
   "source": [
    "import numpy as np\n",
    "\n",
    "sampling = np.geomspace(330,1049.9999999999, 361)\n",
    "calibrated_spectra_geom, sampling = calibrate(f, sampling=sampling)\n",
    "calibrated_spectra_geom"
   ]
  },
  {
   "cell_type": "markdown",
   "metadata": {},
   "source": [
    "We can compare the results of the default sampling and the suggested one for sourceId 6."
   ]
  },
  {
   "cell_type": "code",
   "execution_count": null,
   "metadata": {},
   "outputs": [],
   "source": [
    "first_source = df.iloc[[0]] # Select row with index 0\n",
    "first_spectra, sampling = calibrate(first_source) \n",
    "first_spectra_geom, geom_sampling = calibrate(first_source, sampling=np.geomspace(330,1049.9999999999, 361))"
   ]
  },
  {
   "cell_type": "code",
   "execution_count": null,
   "metadata": {},
   "outputs": [],
   "source": [
    "from gaiaxpy import plot_spectra\n",
    "\n",
    "print('Default sampling')\n",
    "# Do not show the legend as there's only one source in the data\n",
    "plot_spectra(first_spectra, sampling=sampling, legend=False)\n",
    "print('Geometric progression (log) sampling')\n",
    "plot_spectra(first_spectra_geom, sampling=geom_sampling, legend=False)"
   ]
  },
  {
   "cell_type": "markdown",
   "metadata": {},
   "source": [
    "### Truncation"
   ]
  },
  {
   "cell_type": "markdown",
   "metadata": {},
   "source": [
    "The source mean BP/RP spectrum is described as a combination of basis functions. Particularly for faint sources or sources with a low number of observations, it is useful to represent the spectrum using a smaller set of basis functions to avoid higher-order bases fitting the noise in the observed data.\n",
    "\n",
    "The truncation parameter is a boolean which toggles the truncation of the set of bases."
   ]
  },
  {
   "cell_type": "code",
   "execution_count": null,
   "metadata": {},
   "outputs": [],
   "source": [
    "second_source = df.drop([0]) # We'll use only the second source (sourceId 4) in the demonstration\n",
    "non_truncated_spectra, sampling = calibrate(second_source) # truncation is False by default\n",
    "truncated_spectra, _ = calibrate(second_source, truncation=True)"
   ]
  },
  {
   "cell_type": "markdown",
   "metadata": {},
   "source": [
    "We can use GaiaXPy's plot spectra utility to see the differences in the results."
   ]
  },
  {
   "cell_type": "code",
   "execution_count": null,
   "metadata": {},
   "outputs": [],
   "source": [
    "from gaiaxpy import plot_spectra\n",
    "# Construct a DataFrame so we can plot both sources using just one function call\n",
    "data = pd.concat([non_truncated_spectra, truncated_spectra]).reset_index(drop=True)\n",
    "# As both spectra we want to plot have the same sourceId, we'll rename them to get descriptive labels\n",
    "data['source_id'][0] = 'Non truncated'\n",
    "data['source_id'][1] = 'Truncated'\n",
    "plot_spectra(data, sampling=sampling, multi=True)"
   ]
  },
  {
   "cell_type": "markdown",
   "metadata": {},
   "source": [
    "### Output_path, output_file, output_format, save_file"
   ]
  },
  {
   "cell_type": "markdown",
   "metadata": {},
   "source": [
    "Three parameters: **output_path**, **output_file**, and **output_format** define the entire path of the resulting file.\n",
    "\n",
    "The default output path is the current path. If the given output path does not exist, it will be created.\n",
    "\n",
    "The default output file name is 'output_spectra'. \n",
    "\n",
    "The default output format is the format of the input file (i.e. if the input file is a 'fits', then the output file will be a FITS file by default.), or CSV in any other case (DataFrame, ADQL query or list)."
   ]
  },
  {
   "cell_type": "markdown",
   "metadata": {},
   "source": [
    "**NOTE: If a file with the same path and name already exists, it will be AUTOMATICALLY OVERWRITTEN.**"
   ]
  },
  {
   "cell_type": "code",
   "execution_count": null,
   "metadata": {},
   "outputs": [],
   "source": [
    "calibrated_spectra, _ = calibrate(f, output_path='/path/to', output_file='my_file', output_format='fits')"
   ]
  },
  {
   "cell_type": "markdown",
   "metadata": {},
   "source": [
    "The additional parameter **save_file** is a boolean that tells the program whether to save the results or not.\n",
    "If 'output_file' is given but 'save_file' is set to False, a warning will be raised."
   ]
  },
  {
   "cell_type": "code",
   "execution_count": null,
   "metadata": {},
   "outputs": [],
   "source": [
    "calibrated_spectra, _ = calibrate(f, output_file='my_file', output_format='.xml', save_file=False)"
   ]
  }
 ],
 "metadata": {
  "kernelspec": {
   "display_name": "gaiaxpy",
   "language": "python",
   "name": "gaiaxpy"
  },
  "language_info": {
   "codemirror_mode": {
    "name": "ipython",
    "version": 3
   },
   "file_extension": ".py",
   "mimetype": "text/x-python",
   "name": "python",
   "nbconvert_exporter": "python",
   "pygments_lexer": "ipython3",
   "version": "3.8.10"
  }
 },
 "nbformat": 4,
 "nbformat_minor": 4
}
